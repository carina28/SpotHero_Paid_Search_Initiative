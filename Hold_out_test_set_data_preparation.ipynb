{
 "cells": [
  {
   "cell_type": "code",
   "execution_count": 1,
   "metadata": {
    "collapsed": true
   },
   "outputs": [],
   "source": [
    "import numpy as np\n",
    "import pandas as pd\n",
    "import matplotlib.pyplot as plt\n",
    "#enable IPython to display matplotlib graphs\n",
    "%matplotlib inline\n",
    "import csv"
   ]
  },
  {
   "cell_type": "markdown",
   "metadata": {},
   "source": [
    "## Read In Hold-out Test Set Here:"
   ]
  },
  {
   "cell_type": "code",
   "execution_count": 2,
   "metadata": {
    "collapsed": false
   },
   "outputs": [
    {
     "data": {
      "text/html": [
       "<div>\n",
       "<table border=\"1\" class=\"dataframe\">\n",
       "  <thead>\n",
       "    <tr style=\"text-align: right;\">\n",
       "      <th></th>\n",
       "      <th>reservation_id</th>\n",
       "      <th>is_first_purchase</th>\n",
       "      <th>rental_source</th>\n",
       "      <th>rental_source_operating_system</th>\n",
       "      <th>reservation_event_id</th>\n",
       "      <th>discount_promocode_redemption_id</th>\n",
       "      <th>reservation_status</th>\n",
       "      <th>cancellation_reason</th>\n",
       "      <th>discount_promocode_campaign_channel</th>\n",
       "      <th>market</th>\n",
       "      <th>...</th>\n",
       "      <th>user_id</th>\n",
       "      <th>user_email_suffix</th>\n",
       "      <th>user_signup_source</th>\n",
       "      <th>user_signup_timestamp</th>\n",
       "      <th>user_referral_credit_confirmed</th>\n",
       "      <th>survey_id</th>\n",
       "      <th>survey_response</th>\n",
       "      <th>survey_user_text</th>\n",
       "      <th>google_analytics_id</th>\n",
       "      <th>google_analytics_medium</th>\n",
       "    </tr>\n",
       "  </thead>\n",
       "  <tbody>\n",
       "    <tr>\n",
       "      <th>0</th>\n",
       "      <td>61691366ea99ee96e2e1f750b944d157</td>\n",
       "      <td>t</td>\n",
       "      <td>web</td>\n",
       "      <td>Mac OS X</td>\n",
       "      <td>NaN</td>\n",
       "      <td>NaN</td>\n",
       "      <td>valid</td>\n",
       "      <td>NaN</td>\n",
       "      <td>NaN</td>\n",
       "      <td>Chicago</td>\n",
       "      <td>...</td>\n",
       "      <td>073c94b110c3eb3d21da7f4c31684cc2</td>\n",
       "      <td>gmail.com</td>\n",
       "      <td>web</td>\n",
       "      <td>07/15/2015 23:59:16.715</td>\n",
       "      <td>NaN</td>\n",
       "      <td>7a4d7c7e61c53afbbe9ca81085db31cd</td>\n",
       "      <td>Search Engine (e.g. Google, Yahoo, Bing)</td>\n",
       "      <td>NaN</td>\n",
       "      <td>29732d1b73d1b59e043afc7773810cc7</td>\n",
       "      <td>cpc</td>\n",
       "    </tr>\n",
       "    <tr>\n",
       "      <th>1</th>\n",
       "      <td>dd04a6e04de6027cc10f32ae016ebb51</td>\n",
       "      <td>t</td>\n",
       "      <td>web</td>\n",
       "      <td>Windows</td>\n",
       "      <td>NaN</td>\n",
       "      <td>NaN</td>\n",
       "      <td>valid</td>\n",
       "      <td>NaN</td>\n",
       "      <td>NaN</td>\n",
       "      <td>Chicago</td>\n",
       "      <td>...</td>\n",
       "      <td>fe3b73064b27b6b85780be5b89475ec6</td>\n",
       "      <td>yahoo.com</td>\n",
       "      <td>web</td>\n",
       "      <td>04/13/2016 01:14:46.757</td>\n",
       "      <td>NaN</td>\n",
       "      <td>NaN</td>\n",
       "      <td>NaN</td>\n",
       "      <td>NaN</td>\n",
       "      <td>34b8d220e6ada0e25b05640e884f6f47</td>\n",
       "      <td>cpc</td>\n",
       "    </tr>\n",
       "    <tr>\n",
       "      <th>2</th>\n",
       "      <td>70564cc67cdcec6402794980f4bc387b</td>\n",
       "      <td>f</td>\n",
       "      <td>web</td>\n",
       "      <td>Windows 7</td>\n",
       "      <td>8cde555185a074974787d524a6ef0c29</td>\n",
       "      <td>NaN</td>\n",
       "      <td>valid</td>\n",
       "      <td>NaN</td>\n",
       "      <td>NaN</td>\n",
       "      <td>Chicago</td>\n",
       "      <td>...</td>\n",
       "      <td>f18c19e43c149a5d47b841cee29acbe2</td>\n",
       "      <td>wickmail.com</td>\n",
       "      <td>web</td>\n",
       "      <td>07/03/2015 03:05:52.88</td>\n",
       "      <td>t</td>\n",
       "      <td>NaN</td>\n",
       "      <td>NaN</td>\n",
       "      <td>NaN</td>\n",
       "      <td>f68e9042cc659ebc3aeee7871a9b9ae6</td>\n",
       "      <td>(none)</td>\n",
       "    </tr>\n",
       "    <tr>\n",
       "      <th>3</th>\n",
       "      <td>8b37d36dfe2727e65b80d894eff917ed</td>\n",
       "      <td>t</td>\n",
       "      <td>web</td>\n",
       "      <td>Windows Vista</td>\n",
       "      <td>NaN</td>\n",
       "      <td>NaN</td>\n",
       "      <td>cancelled</td>\n",
       "      <td>Change of Plans</td>\n",
       "      <td>NaN</td>\n",
       "      <td>Chicago</td>\n",
       "      <td>...</td>\n",
       "      <td>236d7255127d4ee8f41039fa4c7298a3</td>\n",
       "      <td>comcast.net</td>\n",
       "      <td>web</td>\n",
       "      <td>11/07/2015 20:50:02.361</td>\n",
       "      <td>NaN</td>\n",
       "      <td>NaN</td>\n",
       "      <td>NaN</td>\n",
       "      <td>NaN</td>\n",
       "      <td>81653796491d8e62a06da7a130a30a72</td>\n",
       "      <td>organic</td>\n",
       "    </tr>\n",
       "    <tr>\n",
       "      <th>4</th>\n",
       "      <td>6acdf782d19bb74a6ec5c74966c5efe5</td>\n",
       "      <td>f</td>\n",
       "      <td>web</td>\n",
       "      <td>Windows 7</td>\n",
       "      <td>NaN</td>\n",
       "      <td>NaN</td>\n",
       "      <td>valid</td>\n",
       "      <td>NaN</td>\n",
       "      <td>NaN</td>\n",
       "      <td>Chicago</td>\n",
       "      <td>...</td>\n",
       "      <td>1aec36062da8ce4641520fe79221078d</td>\n",
       "      <td>gmail.com</td>\n",
       "      <td>web</td>\n",
       "      <td>07/15/2014 15:17:18</td>\n",
       "      <td>t</td>\n",
       "      <td>NaN</td>\n",
       "      <td>NaN</td>\n",
       "      <td>NaN</td>\n",
       "      <td>e6e53ce65e96a9ede55b1fc3cb93f55f</td>\n",
       "      <td>organic</td>\n",
       "    </tr>\n",
       "    <tr>\n",
       "      <th>5</th>\n",
       "      <td>28399b218b18ff21fcb65436adaded27</td>\n",
       "      <td>t</td>\n",
       "      <td>web</td>\n",
       "      <td>Windows 7</td>\n",
       "      <td>NaN</td>\n",
       "      <td>NaN</td>\n",
       "      <td>valid</td>\n",
       "      <td>NaN</td>\n",
       "      <td>NaN</td>\n",
       "      <td>Chicago</td>\n",
       "      <td>...</td>\n",
       "      <td>e9cd0e4d05f0cd00c80129c8bb72a199</td>\n",
       "      <td>live.com</td>\n",
       "      <td>web</td>\n",
       "      <td>06/17/2015 22:42:53.092</td>\n",
       "      <td>NaN</td>\n",
       "      <td>NaN</td>\n",
       "      <td>NaN</td>\n",
       "      <td>NaN</td>\n",
       "      <td>60acf4751963420390fc8f2cf2f3705f</td>\n",
       "      <td>cpc</td>\n",
       "    </tr>\n",
       "    <tr>\n",
       "      <th>6</th>\n",
       "      <td>7824bab3edf6bccab79c959e663fe6ca</td>\n",
       "      <td>t</td>\n",
       "      <td>web</td>\n",
       "      <td>Windows 7</td>\n",
       "      <td>NaN</td>\n",
       "      <td>NaN</td>\n",
       "      <td>valid</td>\n",
       "      <td>NaN</td>\n",
       "      <td>NaN</td>\n",
       "      <td>New York</td>\n",
       "      <td>...</td>\n",
       "      <td>b52100606a7b98864d0da8c0fb962fe8</td>\n",
       "      <td>yahoo.com</td>\n",
       "      <td>web</td>\n",
       "      <td>02/13/2015 15:00:44.128</td>\n",
       "      <td>t</td>\n",
       "      <td>NaN</td>\n",
       "      <td>NaN</td>\n",
       "      <td>NaN</td>\n",
       "      <td>46b8b6e6714658fdd638f023a96b3ed2</td>\n",
       "      <td>cpc</td>\n",
       "    </tr>\n",
       "    <tr>\n",
       "      <th>7</th>\n",
       "      <td>dd4422a2c735cd03f02f5ab4825f13aa</td>\n",
       "      <td>f</td>\n",
       "      <td>web</td>\n",
       "      <td>Windows 7</td>\n",
       "      <td>NaN</td>\n",
       "      <td>NaN</td>\n",
       "      <td>valid</td>\n",
       "      <td>NaN</td>\n",
       "      <td>NaN</td>\n",
       "      <td>Chicago</td>\n",
       "      <td>...</td>\n",
       "      <td>044c9621aa73cfb07b7f3f30b9c570a0</td>\n",
       "      <td>sbcglobal.net</td>\n",
       "      <td>web</td>\n",
       "      <td>10/18/2014 11:35:27</td>\n",
       "      <td>t</td>\n",
       "      <td>NaN</td>\n",
       "      <td>NaN</td>\n",
       "      <td>NaN</td>\n",
       "      <td>859672aa0d431de75f734323e5c176b1</td>\n",
       "      <td>(none)</td>\n",
       "    </tr>\n",
       "    <tr>\n",
       "      <th>8</th>\n",
       "      <td>8f7a16f1547c0b680caef11157755786</td>\n",
       "      <td>t</td>\n",
       "      <td>web</td>\n",
       "      <td>Windows 7</td>\n",
       "      <td>NaN</td>\n",
       "      <td>NaN</td>\n",
       "      <td>valid</td>\n",
       "      <td>NaN</td>\n",
       "      <td>NaN</td>\n",
       "      <td>Chicago</td>\n",
       "      <td>...</td>\n",
       "      <td>4e717bf9dc086c8b29ed6158b7ce03df</td>\n",
       "      <td>aol.com</td>\n",
       "      <td>web</td>\n",
       "      <td>08/18/2015 20:38:00.062</td>\n",
       "      <td>t</td>\n",
       "      <td>12a84268867e9b12cec05f395cb1742f</td>\n",
       "      <td>Friend or Family</td>\n",
       "      <td>NaN</td>\n",
       "      <td>c90999c746b9da1fed1b84fc73bdcb70</td>\n",
       "      <td>cpc</td>\n",
       "    </tr>\n",
       "    <tr>\n",
       "      <th>9</th>\n",
       "      <td>c0e054c65cd8e6abd03f874880dde3c5</td>\n",
       "      <td>t</td>\n",
       "      <td>web</td>\n",
       "      <td>Mac OS X</td>\n",
       "      <td>NaN</td>\n",
       "      <td>NaN</td>\n",
       "      <td>valid</td>\n",
       "      <td>NaN</td>\n",
       "      <td>NaN</td>\n",
       "      <td>Washington</td>\n",
       "      <td>...</td>\n",
       "      <td>daa1a854a39483355b367cf0e0de6e00</td>\n",
       "      <td>gmail.com</td>\n",
       "      <td>web</td>\n",
       "      <td>09/24/2016 17:25:29.942</td>\n",
       "      <td>t</td>\n",
       "      <td>NaN</td>\n",
       "      <td>NaN</td>\n",
       "      <td>NaN</td>\n",
       "      <td>5ff9d0a1cdeffb237d735e10617d7eeb</td>\n",
       "      <td>referral</td>\n",
       "    </tr>\n",
       "  </tbody>\n",
       "</table>\n",
       "<p>10 rows × 23 columns</p>\n",
       "</div>"
      ],
      "text/plain": [
       "                     reservation_id is_first_purchase rental_source  \\\n",
       "0  61691366ea99ee96e2e1f750b944d157                 t           web   \n",
       "1  dd04a6e04de6027cc10f32ae016ebb51                 t           web   \n",
       "2  70564cc67cdcec6402794980f4bc387b                 f           web   \n",
       "3  8b37d36dfe2727e65b80d894eff917ed                 t           web   \n",
       "4  6acdf782d19bb74a6ec5c74966c5efe5                 f           web   \n",
       "5  28399b218b18ff21fcb65436adaded27                 t           web   \n",
       "6  7824bab3edf6bccab79c959e663fe6ca                 t           web   \n",
       "7  dd4422a2c735cd03f02f5ab4825f13aa                 f           web   \n",
       "8  8f7a16f1547c0b680caef11157755786                 t           web   \n",
       "9  c0e054c65cd8e6abd03f874880dde3c5                 t           web   \n",
       "\n",
       "  rental_source_operating_system              reservation_event_id  \\\n",
       "0                       Mac OS X                               NaN   \n",
       "1                        Windows                               NaN   \n",
       "2                      Windows 7  8cde555185a074974787d524a6ef0c29   \n",
       "3                  Windows Vista                               NaN   \n",
       "4                      Windows 7                               NaN   \n",
       "5                      Windows 7                               NaN   \n",
       "6                      Windows 7                               NaN   \n",
       "7                      Windows 7                               NaN   \n",
       "8                      Windows 7                               NaN   \n",
       "9                       Mac OS X                               NaN   \n",
       "\n",
       "   discount_promocode_redemption_id reservation_status cancellation_reason  \\\n",
       "0                               NaN              valid                 NaN   \n",
       "1                               NaN              valid                 NaN   \n",
       "2                               NaN              valid                 NaN   \n",
       "3                               NaN          cancelled    Change of Plans    \n",
       "4                               NaN              valid                 NaN   \n",
       "5                               NaN              valid                 NaN   \n",
       "6                               NaN              valid                 NaN   \n",
       "7                               NaN              valid                 NaN   \n",
       "8                               NaN              valid                 NaN   \n",
       "9                               NaN              valid                 NaN   \n",
       "\n",
       "  discount_promocode_campaign_channel      market           ...            \\\n",
       "0                                 NaN     Chicago           ...             \n",
       "1                                 NaN     Chicago           ...             \n",
       "2                                 NaN     Chicago           ...             \n",
       "3                                 NaN     Chicago           ...             \n",
       "4                                 NaN     Chicago           ...             \n",
       "5                                 NaN     Chicago           ...             \n",
       "6                                 NaN    New York           ...             \n",
       "7                                 NaN     Chicago           ...             \n",
       "8                                 NaN     Chicago           ...             \n",
       "9                                 NaN  Washington           ...             \n",
       "\n",
       "                            user_id  user_email_suffix user_signup_source  \\\n",
       "0  073c94b110c3eb3d21da7f4c31684cc2          gmail.com                web   \n",
       "1  fe3b73064b27b6b85780be5b89475ec6          yahoo.com                web   \n",
       "2  f18c19e43c149a5d47b841cee29acbe2       wickmail.com                web   \n",
       "3  236d7255127d4ee8f41039fa4c7298a3        comcast.net                web   \n",
       "4  1aec36062da8ce4641520fe79221078d          gmail.com                web   \n",
       "5  e9cd0e4d05f0cd00c80129c8bb72a199           live.com                web   \n",
       "6  b52100606a7b98864d0da8c0fb962fe8          yahoo.com                web   \n",
       "7  044c9621aa73cfb07b7f3f30b9c570a0      sbcglobal.net                web   \n",
       "8  4e717bf9dc086c8b29ed6158b7ce03df            aol.com                web   \n",
       "9  daa1a854a39483355b367cf0e0de6e00          gmail.com                web   \n",
       "\n",
       "     user_signup_timestamp user_referral_credit_confirmed  \\\n",
       "0  07/15/2015 23:59:16.715                            NaN   \n",
       "1  04/13/2016 01:14:46.757                            NaN   \n",
       "2   07/03/2015 03:05:52.88                              t   \n",
       "3  11/07/2015 20:50:02.361                            NaN   \n",
       "4      07/15/2014 15:17:18                              t   \n",
       "5  06/17/2015 22:42:53.092                            NaN   \n",
       "6  02/13/2015 15:00:44.128                              t   \n",
       "7      10/18/2014 11:35:27                              t   \n",
       "8  08/18/2015 20:38:00.062                              t   \n",
       "9  09/24/2016 17:25:29.942                              t   \n",
       "\n",
       "                          survey_id                           survey_response  \\\n",
       "0  7a4d7c7e61c53afbbe9ca81085db31cd  Search Engine (e.g. Google, Yahoo, Bing)   \n",
       "1                               NaN                                       NaN   \n",
       "2                               NaN                                       NaN   \n",
       "3                               NaN                                       NaN   \n",
       "4                               NaN                                       NaN   \n",
       "5                               NaN                                       NaN   \n",
       "6                               NaN                                       NaN   \n",
       "7                               NaN                                       NaN   \n",
       "8  12a84268867e9b12cec05f395cb1742f                          Friend or Family   \n",
       "9                               NaN                                       NaN   \n",
       "\n",
       "  survey_user_text               google_analytics_id google_analytics_medium  \n",
       "0              NaN  29732d1b73d1b59e043afc7773810cc7                     cpc  \n",
       "1              NaN  34b8d220e6ada0e25b05640e884f6f47                     cpc  \n",
       "2              NaN  f68e9042cc659ebc3aeee7871a9b9ae6                  (none)  \n",
       "3              NaN  81653796491d8e62a06da7a130a30a72                 organic  \n",
       "4              NaN  e6e53ce65e96a9ede55b1fc3cb93f55f                 organic  \n",
       "5              NaN  60acf4751963420390fc8f2cf2f3705f                     cpc  \n",
       "6              NaN  46b8b6e6714658fdd638f023a96b3ed2                     cpc  \n",
       "7              NaN  859672aa0d431de75f734323e5c176b1                  (none)  \n",
       "8              NaN  c90999c746b9da1fed1b84fc73bdcb70                     cpc  \n",
       "9              NaN  5ff9d0a1cdeffb237d735e10617d7eeb                referral  \n",
       "\n",
       "[10 rows x 23 columns]"
      ]
     },
     "execution_count": 2,
     "metadata": {},
     "output_type": "execute_result"
    }
   ],
   "source": [
    "#read in hold-out test set to score predictiveness of model from SpotHero\n",
    "path_to_test_set = 'spothero_ds_takehome.csv' #replace with path to real hold-out test set \n",
    "data=pd.read_csv(path_to_test_set, sep=',',header='infer')\n",
    "data.head(10)"
   ]
  },
  {
   "cell_type": "code",
   "execution_count": 3,
   "metadata": {
    "collapsed": true
   },
   "outputs": [],
   "source": [
    "#read in model training data\n",
    "#data=pd.read_csv('spothero_ds_takehome.csv')\n",
    "#data.head(10)"
   ]
  },
  {
   "cell_type": "code",
   "execution_count": 4,
   "metadata": {
    "collapsed": false
   },
   "outputs": [
    {
     "data": {
      "text/plain": [
       "Index(['reservation_id', 'is_first_purchase', 'rental_source',\n",
       "       'rental_source_operating_system', 'reservation_event_id',\n",
       "       'discount_promocode_redemption_id', 'reservation_status',\n",
       "       'cancellation_reason', 'discount_promocode_campaign_channel', 'market',\n",
       "       'facility_id', 'facility_height_restriction', 'facility_type',\n",
       "       'user_id', 'user_email_suffix', 'user_signup_source',\n",
       "       'user_signup_timestamp', 'user_referral_credit_confirmed', 'survey_id',\n",
       "       'survey_response', 'survey_user_text', 'google_analytics_id',\n",
       "       'google_analytics_medium'],\n",
       "      dtype='object')"
      ]
     },
     "execution_count": 4,
     "metadata": {},
     "output_type": "execute_result"
    }
   ],
   "source": [
    "data.columns"
   ]
  },
  {
   "cell_type": "code",
   "execution_count": 5,
   "metadata": {
    "collapsed": false
   },
   "outputs": [
    {
     "data": {
      "text/plain": [
       "organic                    73461\n",
       "cpc                        62913\n",
       "(none)                     47524\n",
       "referral                   21480\n",
       "email                       3740\n",
       "desktopweb                  1887\n",
       "Website                     1319\n",
       "iosapp                      1137\n",
       "website                      779\n",
       "androidapp                   405\n",
       "partnerships                 274\n",
       "Partnerships                 123\n",
       "partner                       72\n",
       "(not set)                     33\n",
       "desktop                       33\n",
       "display                       14\n",
       "Online                         7\n",
       "mobile                         7\n",
       "operator page                  6\n",
       "social                         5\n",
       "Email                          3\n",
       "tablet                         3\n",
       "Account                        2\n",
       "Chat                           2\n",
       "Facebook                       2\n",
       "soldier-field                  1\n",
       "partners                       1\n",
       "Address: 200 W Adams St        1\n",
       "affiliate                      1\n",
       "Name: google_analytics_medium, dtype: int64"
      ]
     },
     "execution_count": 5,
     "metadata": {},
     "output_type": "execute_result"
    }
   ],
   "source": [
    "data['google_analytics_medium'].value_counts()\n",
    "#numeric variables: none (really? maybe 'facility_height_restriction', consider recode into bins)\n",
    "#categorical variables with levels > 10: 'rental_source_operating_system', 'facility_height_restriction', \n",
    "#'user_email_suffix', 'cancellation_reason','discount_promocode_redemption_id','market', 'survey_response', 'survey_user_text', google_analytics_medium'\n",
    "#consider recode to reduce dimension for categorical variables with level > 10"
   ]
  },
  {
   "cell_type": "code",
   "execution_count": 6,
   "metadata": {
    "collapsed": false
   },
   "outputs": [
    {
     "data": {
      "text/plain": [
       "(215235, 23)"
      ]
     },
     "execution_count": 6,
     "metadata": {},
     "output_type": "execute_result"
    }
   ],
   "source": [
    "#rows with missing value check:\n",
    "data.shape #(215235, 23)\n",
    "nan_rows = lambda df: df[df.isnull().any(axis=1)]\n",
    "nan_rows(data).shape #all rows have NaNs"
   ]
  },
  {
   "cell_type": "code",
   "execution_count": 7,
   "metadata": {
    "collapsed": false
   },
   "outputs": [
    {
     "data": {
      "text/plain": [
       "['reservation_event_id',\n",
       " 'discount_promocode_redemption_id',\n",
       " 'cancellation_reason',\n",
       " 'discount_promocode_campaign_channel',\n",
       " 'facility_height_restriction',\n",
       " 'facility_type',\n",
       " 'user_referral_credit_confirmed',\n",
       " 'survey_id',\n",
       " 'survey_response',\n",
       " 'survey_user_text']"
      ]
     },
     "execution_count": 7,
     "metadata": {},
     "output_type": "execute_result"
    }
   ],
   "source": [
    "#colomns with missing value check:\n",
    "nan_cols = lambda df: df.columns[df.isnull().any()].tolist()\n",
    "nan_cols(data)"
   ]
  },
  {
   "cell_type": "markdown",
   "metadata": {},
   "source": [
    "## Label Creation for Classification"
   ]
  },
  {
   "cell_type": "code",
   "execution_count": 8,
   "metadata": {
    "collapsed": false,
    "scrolled": true
   },
   "outputs": [
    {
     "data": {
      "text/plain": [
       "organic                    73461\n",
       "cpc                        62913\n",
       "(none)                     47524\n",
       "referral                   21480\n",
       "email                       3740\n",
       "desktopweb                  1887\n",
       "Website                     1319\n",
       "iosapp                      1137\n",
       "website                      779\n",
       "androidapp                   405\n",
       "partnerships                 274\n",
       "Partnerships                 123\n",
       "partner                       72\n",
       "(not set)                     33\n",
       "desktop                       33\n",
       "display                       14\n",
       "Online                         7\n",
       "mobile                         7\n",
       "operator page                  6\n",
       "social                         5\n",
       "Email                          3\n",
       "tablet                         3\n",
       "Account                        2\n",
       "Chat                           2\n",
       "Facebook                       2\n",
       "soldier-field                  1\n",
       "partners                       1\n",
       "Address: 200 W Adams St        1\n",
       "affiliate                      1\n",
       "Name: google_analytics_medium, dtype: int64"
      ]
     },
     "execution_count": 8,
     "metadata": {},
     "output_type": "execute_result"
    }
   ],
   "source": [
    "data['google_analytics_medium'].value_counts()"
   ]
  },
  {
   "cell_type": "code",
   "execution_count": 9,
   "metadata": {
    "collapsed": true
   },
   "outputs": [
    {
     "data": {
      "text/plain": [
       "0.0    152322\n",
       "1.0     62913\n",
       "Name: label, dtype: int64"
      ]
     },
     "execution_count": 9,
     "metadata": {},
     "output_type": "execute_result"
    }
   ],
   "source": [
    "#create response label: 1 if 'google_analytics_medium' == 'cpc', 0 otherwise\n",
    "data['label']=np.nan\n",
    "data.loc[data['google_analytics_medium']=='cpc', 'label']=1\n",
    "data.loc[data['label'].isnull(),'label']=0\n",
    "data['label'].value_counts()\n",
    "#data['label'].isnull().value_counts() #cleared"
   ]
  },
  {
   "cell_type": "markdown",
   "metadata": {},
   "source": [
    "# Feature Engineering\n",
    "\n",
    "columns = ['reservation_id', 'is_first_purchase', 'rental_source',\n",
    "       'rental_source_operating_system', 'reservation_event_id',\n",
    "       'discount_promocode_redemption_id', 'reservation_status',\n",
    "       'cancellation_reason', 'discount_promocode_campaign_channel', 'market',\n",
    "       'facility_id', 'facility_height_restriction', 'facility_type',\n",
    "       'user_id', 'user_email_suffix', 'user_signup_source',\n",
    "       'user_signup_timestamp', 'user_referral_credit_confirmed', 'survey_id',\n",
    "       'survey_response', 'survey_user_text', 'google_analytics_id',\n",
    "       'google_analytics_medium']\n",
    "       \n",
    "columns with missing values: ['reservation_event_id',\n",
    " 'discount_promocode_redemption_id',\n",
    " 'cancellation_reason',\n",
    " 'discount_promocode_campaign_channel',\n",
    " 'facility_height_restriction',\n",
    " 'facility_type',\n",
    " 'user_referral_credit_confirmed',\n",
    " 'survey_id',\n",
    " 'survey_response',\n",
    " 'survey_user_text']"
   ]
  },
  {
   "cell_type": "markdown",
   "metadata": {},
   "source": [
    "## Missin Values Imputation & Reengineering"
   ]
  },
  {
   "cell_type": "code",
   "execution_count": 10,
   "metadata": {
    "collapsed": false
   },
   "outputs": [
    {
     "data": {
      "text/plain": [
       "0.0    199699\n",
       "1.0     15536\n",
       "Name: for_event, dtype: int64"
      ]
     },
     "execution_count": 10,
     "metadata": {},
     "output_type": "execute_result"
    }
   ],
   "source": [
    "#1. create new binary variable 'for_event' from 'reservation_event_id' (1 for non empty fields, 0 for NaNs)\n",
    "#replace 'reservation_event_id' with 'for_event' in the model:\n",
    "data['for_event']=np.nan\n",
    "data.loc[~data['reservation_event_id'].isnull(),'for_event']=1\n",
    "data.loc[data['for_event']!=1,'for_event']=0\n",
    "data['for_event'].value_counts()\n",
    "#data['for_event'].isnull().value_counts() #all false, cleared"
   ]
  },
  {
   "cell_type": "code",
   "execution_count": 11,
   "metadata": {
    "collapsed": false
   },
   "outputs": [
    {
     "data": {
      "text/plain": [
       "0.0    201295\n",
       "1.0     13940\n",
       "Name: has_promocode, dtype: int64"
      ]
     },
     "execution_count": 11,
     "metadata": {},
     "output_type": "execute_result"
    }
   ],
   "source": [
    "##2. create new binary variable 'has_promocode' from 'discount_promocode_redemption_id' indicating whether a promo code was used \n",
    "data['has_promocode']=np.nan\n",
    "data.loc[~data['discount_promocode_redemption_id'].isnull(),'has_promocode']=1\n",
    "data.loc[data['has_promocode']!=1,'has_promocode']=0\n",
    "data['has_promocode'].value_counts()\n",
    "#data['has_promocode'].isnull().value_counts() #all false, cleared"
   ]
  },
  {
   "cell_type": "code",
   "execution_count": 12,
   "metadata": {
    "collapsed": true
   },
   "outputs": [],
   "source": [
    "#replacy all missin value in 'cancellation_reason' with 'other'\n",
    "#need to reduce dimension (extract factors) in the next section\n",
    "data.loc[data['cancellation_reason'].isnull(),'cancellation_reason']='Other'\n",
    "#data['cancellation_reason'].value_counts()\n",
    "#data['cancellation_reason'].isnull().value_counts() #all false, cleared\n"
   ]
  },
  {
   "cell_type": "code",
   "execution_count": 13,
   "metadata": {
    "collapsed": false
   },
   "outputs": [],
   "source": [
    "#missing values in 'discount_promocode_campaign_channel' is highly associated with whether a promocode is used when reserving\n",
    "data.loc[data[['discount_promocode_redemption_id','discount_promocode_campaign_channel']].isnull().all(axis=1),\n",
    "         ['discount_promocode_redemption_id','discount_promocode_campaign_channel']].shape #(201295, 2)\n",
    "#consider recoding all missing values into 'off campaign'\n",
    "data['discount_promocode_campaign_channel'].value_counts() #201560 missing value\n",
    "data.loc[data['discount_promocode_campaign_channel'].isnull(),'discount_promocode_campaign_channel']='off campaign'\n",
    "#data['discount_promocode_campaign_channel'].isnull().value_counts() #all false, cleared"
   ]
  },
  {
   "cell_type": "code",
   "execution_count": 14,
   "metadata": {
    "collapsed": false
   },
   "outputs": [
    {
     "data": {
      "text/plain": [
       "False    215235\n",
       "Name: facility_height_restriction, dtype: int64"
      ]
     },
     "execution_count": 14,
     "metadata": {},
     "output_type": "execute_result"
    }
   ],
   "source": [
    "#impute missing values in 'facility_height_restriction' with mode value (80)\n",
    "data['facility_height_restriction'].isnull().value_counts() #62995 missing values\n",
    "#df.mode() returns a dataframe\n",
    "data.loc[data['facility_height_restriction'].isnull(),\n",
    "         'facility_height_restriction']=data['facility_height_restriction'].mode()[0]\n",
    "data['facility_height_restriction'].isnull().value_counts() #cleared"
   ]
  },
  {
   "cell_type": "code",
   "execution_count": 15,
   "metadata": {
    "collapsed": false
   },
   "outputs": [],
   "source": [
    "#impute missing values in 'facility_type' with mode value \n",
    "data['facility_type'].value_counts() \n",
    "data['facility_type'].isnull().value_counts() #8570 missing values\n",
    "data.loc[data['facility_type'].isnull(),'facility_type']=data['facility_type'].mode()[0]\n",
    "#data['facility_type'].isnull().value_counts() #cleared"
   ]
  },
  {
   "cell_type": "code",
   "execution_count": 16,
   "metadata": {
    "collapsed": false
   },
   "outputs": [],
   "source": [
    "#impute missing values in 'user_referral_credit_confirmed' with 'f'\n",
    "data['user_referral_credit_confirmed'].value_counts() \n",
    "data['user_referral_credit_confirmed'].isnull().value_counts() #63503 missing values\n",
    "data.loc[data[ 'user_referral_credit_confirmed'].isnull(), 'user_referral_credit_confirmed']='f'\n",
    "#data[ 'user_referral_credit_confirmed'].isnull().value_counts() #cleared"
   ]
  },
  {
   "cell_type": "code",
   "execution_count": 17,
   "metadata": {
    "collapsed": false
   },
   "outputs": [
    {
     "data": {
      "text/plain": [
       "0.0    197206\n",
       "1.0     18029\n",
       "Name: took_survey, dtype: int64"
      ]
     },
     "execution_count": 17,
     "metadata": {},
     "output_type": "execute_result"
    }
   ],
   "source": [
    "#created new binary variable 'took_survey' from 'survey_id' indicating whether the survey attached with reservation is taken\n",
    "data['survey_id'].value_counts() \n",
    "data['survey_id'].isnull().value_counts() #197206 missing values\n",
    "data['took_survey']=np.nan\n",
    "data.loc[data['survey_id'].isnull(),'took_survey']=0\n",
    "data.loc[~data['survey_id'].isnull(),'took_survey']=1\n",
    "data['took_survey'].isnull().value_counts() #cleared\n",
    "data['took_survey'].value_counts()"
   ]
  },
  {
   "cell_type": "code",
   "execution_count": 18,
   "metadata": {
    "collapsed": false
   },
   "outputs": [
    {
     "data": {
      "text/plain": [
       "True     213810\n",
       "False      1425\n",
       "Name: survey_user_text, dtype: int64"
      ]
     },
     "execution_count": 18,
     "metadata": {},
     "output_type": "execute_result"
    }
   ],
   "source": [
    "#'survey_response' has missing values suspectively for users who declined survey. Impute with value 'General'.\n",
    "#also, it seems like the 'survey_user_text' is user's actual typed-in answer to the question \"where do you learn about SpotHero?\", \n",
    "#and 'survey_response' is recoded version of 'survey_user_text' reduced into topics/themes.\n",
    "#we will use 'survey_reponse' over 'survey_user_text' in the model\n",
    "data['survey_response'].value_counts()\n",
    "data['survey_response'].isnull().value_counts() #198543 missing values\n",
    "data.loc[data['survey_response'].isnull(),'survey_response']='General'\n",
    "data['survey_response'].isnull().value_counts() #cleared\n",
    "data['survey_user_text'].isnull().value_counts()"
   ]
  },
  {
   "cell_type": "code",
   "execution_count": 20,
   "metadata": {
    "collapsed": false
   },
   "outputs": [
    {
     "data": {
      "text/plain": [
       "Index(['reservation_id', 'is_first_purchase', 'rental_source',\n",
       "       'rental_source_operating_system', 'reservation_event_id',\n",
       "       'discount_promocode_redemption_id', 'reservation_status',\n",
       "       'cancellation_reason', 'discount_promocode_campaign_channel', 'market',\n",
       "       'facility_id', 'facility_height_restriction', 'facility_type',\n",
       "       'user_id', 'user_email_suffix', 'user_signup_source',\n",
       "       'user_signup_timestamp', 'user_referral_credit_confirmed', 'survey_id',\n",
       "       'survey_response', 'survey_user_text', 'google_analytics_id',\n",
       "       'google_analytics_medium', 'label', 'for_event', 'has_promocode',\n",
       "       'took_survey'],\n",
       "      dtype='object')"
      ]
     },
     "execution_count": 20,
     "metadata": {},
     "output_type": "execute_result"
    }
   ],
   "source": [
    "#write 1st version semi-processed dataset to local csv file:\n",
    "#data.to_csv(\"spothero_data1.csv\", sep=',', header=True, index = False)\n",
    "data.columns"
   ]
  },
  {
   "cell_type": "markdown",
   "metadata": {},
   "source": [
    "## Feature Recode & Reduction"
   ]
  },
  {
   "cell_type": "markdown",
   "metadata": {},
   "source": [
    "1.  recode cancellation_reason into reduced number of levels:\n",
    "    Change of Plans: match 'change of plans', 'change', 'Weather', 'Event Cancellation' 'Event Cancelled' 'cancelled' 'cancellation'\n",
    "    Book by Mistake: match 'mistake'\n",
    "    Lost: match 'Lost', 'lost','wrong garage', 'wrong', 'Wrong Garage'\n",
    "    Reservation Update: match 'Reservation Update', 'Update', 'update'\n",
    "    Location Closed: match 'Closed' 'Closure' \n",
    "    Supply Request: match 'supply request' 'Supply' 'Supply Request'\n",
    "    Operation Error: 'Lot Full' 'Full' 'lot full' 'full' 'No Attendant Present' 'Vehicle Too Large' 'Attendant' 'Double Charged' 'Scanner' 'Not Accepted','Charged Extra', 'tow', 'towed','Operator'\n",
    "    Test: 'Test' 'test' 'TEST'\n",
    "    Fraud: 'fraud' 'Fraud','Fraudulent','fraudulent'\n",
    "\n",
    "#counts=data['cancellation_reason'].value_counts() #returns a pandas Series\n",
    "#counts=counts.to_frame().head(100)"
   ]
  },
  {
   "cell_type": "code",
   "execution_count": 21,
   "metadata": {
    "collapsed": false,
    "scrolled": true
   },
   "outputs": [],
   "source": [
    "#recode new binary variables from cancellatoin reasons indicating different reasons for cancelling reservation:\n",
    "\n",
    "list_of_cancel_reasons = ['Book_by_Mistake','Lost','Reservation_Update', 'Location_Closed','Supply_Request', 'Operation_Error', \n",
    "                          'Testing', 'Fraud']\n",
    "list_of_list_keywords = [('mistake', 'Mistake'),\n",
    "                         ('Lost','lost', 'wrong','wrong garage', 'Wrong Garage', 'Wrong garage'),\n",
    "                         ('Change', 'change','Weather', 'weather', 'Cancelled', 'cancelled','Cancellation', 'cancellation', \n",
    "                          'Update', 'update'),\n",
    "                         ('Closed','closed','Closure','closure'),\n",
    "                        ('Supply Request','Supply','supply request','supply'),\n",
    "                        ('Full','full','No Attendant','no attendant','No attendant','Too Large','too large','Double Charged',\n",
    "                         'double charged','Scanner','scanner','Not Accepted','not accepted','Not accepted',\n",
    "                         'Charged Extra','charged extra', 'tow', 'Tow','Towed','towed','Operator','operator'),\n",
    "                        ('Test','test','TEST','Testing','testing','TESTING'),\n",
    "                        ('Fraud','fraud','Fraudulent','fraudulent')]\n",
    "#loop to create new variables:\n",
    "i=0\n",
    "for reason in list_of_cancel_reasons:\n",
    "    data[reason]=np.nan\n",
    "    for keyword in list_of_list_keywords[i]:\n",
    "        data.loc[data['cancellation_reason'].str.contains(keyword),reason]=1\n",
    "    i=i+1\n",
    "\n",
    "#fill in all the NaNs in new binary variables created above with 0\n",
    "for reason in list_of_cancel_reasons:\n",
    "    data.loc[data[reason].isnull(),reason]=0"
   ]
  },
  {
   "cell_type": "code",
   "execution_count": 22,
   "metadata": {
    "collapsed": false
   },
   "outputs": [
    {
     "data": {
      "text/html": [
       "<div>\n",
       "<table border=\"1\" class=\"dataframe\">\n",
       "  <thead>\n",
       "    <tr style=\"text-align: right;\">\n",
       "      <th></th>\n",
       "      <th>Book_by_Mistake</th>\n",
       "      <th>Lost</th>\n",
       "      <th>Reservation_Update</th>\n",
       "      <th>Location_Closed</th>\n",
       "      <th>Supply_Request</th>\n",
       "      <th>Operation_Error</th>\n",
       "      <th>Testing</th>\n",
       "      <th>Fraud</th>\n",
       "    </tr>\n",
       "  </thead>\n",
       "  <tbody>\n",
       "  </tbody>\n",
       "</table>\n",
       "</div>"
      ],
      "text/plain": [
       "Empty DataFrame\n",
       "Columns: [Book_by_Mistake, Lost, Reservation_Update, Location_Closed, Supply_Request, Operation_Error, Testing, Fraud]\n",
       "Index: []"
      ]
     },
     "execution_count": 22,
     "metadata": {},
     "output_type": "execute_result"
    }
   ],
   "source": [
    "#['Book_by_Mistake','Lost','Reservation_Update', 'Location_Closed','Supply_Request', 'Operation_Error', 'Testing', 'Fraud']\n",
    "data['Book_by_Mistake'].value_counts()\n",
    "nan_rows(data[list_of_cancel_reasons]) #zero rows return, cleared"
   ]
  },
  {
   "cell_type": "markdown",
   "metadata": {},
   "source": [
    "2. recode new binary variables from 'rental_source_operating_system' indicating operation systems at rental source:\n",
    "Windows, iOS, Mac, Chrome, Linux, Ubuntu, Other\n",
    "#data['rental_source_operating_system'].value_counts()"
   ]
  },
  {
   "cell_type": "code",
   "execution_count": 23,
   "metadata": {
    "collapsed": false
   },
   "outputs": [],
   "source": [
    "list_of_operating_systems=['Windows','iOS','Mac','Chrome','Linux','Ubuntu']\n",
    "list_of_keywords=['Windows','iOS','Mac','Chrome','Linux','Ubuntu']\n",
    "\n",
    "#enter loop to create new variables\n",
    "i=0\n",
    "for system in list_of_operating_systems:\n",
    "    data[system]=np.nan\n",
    "    keyword=list_of_keywords[i]\n",
    "    data.loc[data['rental_source_operating_system'].str.contains(keyword),system]=1\n",
    "    i=i+1\n",
    "    \n",
    "#fill in all NaNs in newly created binary variables with 0:\n",
    "for system in list_of_operating_systems:\n",
    "    data.loc[data[system].isnull(),system]=0"
   ]
  },
  {
   "cell_type": "code",
   "execution_count": 24,
   "metadata": {
    "collapsed": false
   },
   "outputs": [],
   "source": [
    "#create variable 'Other_system' for rows where rental source system is not any in the list_of_operating_systems:\n",
    "data['Other_system']=np.nan\n",
    "sum_systems=data[list_of_operating_systems].sum(axis=1).to_frame()  #pd.sum() here returns a pandas Series\n",
    "data.loc[sum_systems[0]==0, 'Other_system']=1\n",
    "data.loc[data['Other_system'].isnull(), 'Other_system']=0"
   ]
  },
  {
   "cell_type": "markdown",
   "metadata": {},
   "source": [
    "3. for 'discount_promocode_campaign_channel', recode to group all the levels with frequency count <100 into one level together with 'Other'\n",
    "#data['discount_promocode_campaign_channel'].value_counts()"
   ]
  },
  {
   "cell_type": "code",
   "execution_count": 25,
   "metadata": {
    "collapsed": false
   },
   "outputs": [
    {
     "data": {
      "text/plain": [
       "off campaign                   201560\n",
       "Email                            3653\n",
       "Site                             3052\n",
       "Radio                            2143\n",
       "Partnerships                     2106\n",
       "Paid Search                       861\n",
       "Other                             833\n",
       "Social Media                      310\n",
       "Business Partnerships             239\n",
       "Deal Sites                        185\n",
       "Employee Promo Codes              154\n",
       "Hero Customer Service Codes       139\n",
       "Name: discount_promocode_campaign_channel, dtype: int64"
      ]
     },
     "execution_count": 25,
     "metadata": {},
     "output_type": "execute_result"
    }
   ],
   "source": [
    "channel_to_group=['OOH - Billboards','Direct Mail','City Launch','Market Research','ApplePay']\n",
    "for channel in channel_to_group:\n",
    "    data.loc[data['discount_promocode_campaign_channel']==channel, 'discount_promocode_campaign_channel']='Other'\n",
    "\n",
    "data['discount_promocode_campaign_channel'].value_counts()    "
   ]
  },
  {
   "cell_type": "code",
   "execution_count": 26,
   "metadata": {
    "collapsed": false
   },
   "outputs": [
    {
     "data": {
      "text/plain": [
       "['New Orleans',\n",
       " 'Oakland',\n",
       " 'Minneapolis',\n",
       " 'Seattle',\n",
       " 'Miami',\n",
       " 'San Diego',\n",
       " 'Austin',\n",
       " 'Houston',\n",
       " 'San Jose',\n",
       " 'Indianapolis',\n",
       " 'St. Louis',\n",
       " 'Dallas',\n",
       " 'Atlanta',\n",
       " 'Orlando',\n",
       " 'Sacramento',\n",
       " 'Nashville',\n",
       " 'Fort Lauderdale',\n",
       " 'Detroit',\n",
       " 'Jacksonville',\n",
       " 'Tampa',\n",
       " 'Monterey']"
      ]
     },
     "execution_count": 26,
     "metadata": {},
     "output_type": "execute_result"
    }
   ],
   "source": [
    "#4. recode 'market' to group all locations with frequency count <1000 into one level 'Other'\n",
    "#could also consider recode into regions\n",
    "freq=data['market'].value_counts().to_frame()\n",
    "freq.reset_index(level=0, inplace=True)\n",
    "list_of_markets=freq.loc[freq['market']<1000,'index'].tolist()\n",
    "list_of_markets"
   ]
  },
  {
   "cell_type": "code",
   "execution_count": 27,
   "metadata": {
    "collapsed": false
   },
   "outputs": [
    {
     "data": {
      "text/plain": [
       "Chicago          112654\n",
       "New York          41632\n",
       "Washington        20686\n",
       "Boston            12635\n",
       "San Francisco     11155\n",
       "Other              4625\n",
       "Los Angeles        2649\n",
       "Philadelphia       2331\n",
       "Denver             2126\n",
       "Newark             1640\n",
       "Baltimore          1561\n",
       "Milwaukee          1541\n",
       "Name: market2, dtype: int64"
      ]
     },
     "execution_count": 27,
     "metadata": {},
     "output_type": "execute_result"
    }
   ],
   "source": [
    "data['market2']=np.nan\n",
    "for market in list_of_markets:\n",
    "    data.loc[data['market'].str.contains(market),'market2']='Other'\n",
    "data.loc[data['market2'].isnull(),'market2']=data['market']\n",
    "data['market2'].value_counts()"
   ]
  },
  {
   "cell_type": "markdown",
   "metadata": {},
   "source": [
    "4. recode 'user_email_suffix' to group all levels other than gmail, yahoo, hotmail, aol, comcast into one level 'Other'\n",
    "#data['user_email_suffix'].value_counts()"
   ]
  },
  {
   "cell_type": "code",
   "execution_count": 28,
   "metadata": {
    "collapsed": false
   },
   "outputs": [
    {
     "data": {
      "text/plain": [
       "gmail.com      91967\n",
       "Other          53358\n",
       "yahoo.com      31886\n",
       "hotmail.com    14283\n",
       "aol.com        13910\n",
       "comcast.net     9831\n",
       "Name: user_email, dtype: int64"
      ]
     },
     "execution_count": 28,
     "metadata": {},
     "output_type": "execute_result"
    }
   ],
   "source": [
    "data['user_email']=np.nan\n",
    "list_of_emails=['gmail.com','yahoo.com','hotmail.com','aol.com','comcast.net']\n",
    "for email in list_of_emails:\n",
    "    data.loc[data['user_email_suffix'].str.contains(email), 'user_email']=email\n",
    "data.loc[data['user_email'].isnull(),'user_email']='Other'\n",
    "data['user_email'].value_counts()"
   ]
  },
  {
   "cell_type": "markdown",
   "metadata": {},
   "source": [
    "5. recode 'survey_response' to group levels with frequency <e 50 into one level 'General'\n",
    "Also correct typo, difference in upper/lower case:\n",
    "    Search engine (e.g. Google, Yahoo, Bing) = Search Engine (e.g. Google, Yahoo, Bing)\n",
    "    Search Engine = Search Engine (e.g. Google, Yahoo, Bing)\n",
    "    Friend or family = Friend or Family\n",
    "    Employer or co-worker = Employer or Co-worker\n",
    "    Blog or website = Blog or Website\n",
    "    Ad on a website or mobile app = Ad on a Website or Mobile App\n",
    "    Website or blog = Blog or Website\n",
    "    Parking facility (e.g. sign, valet) = Parking Facility (e.g. sign, valet)\n",
    "    Social Media = Social Media (e.g. Facebook, Twitter)\n",
    "    Press (newspaper, online, or review site)  = Press (e.g. news story, review site)\n",
    "    Elevator ad = Elevator Ad\n",
    "    Received a promo code = Received a Promo Code \n",
    "Also, since 'survey_response' and 'survey_user_text' are highly correlated/identical, and 'survey_user_text' has too many missing values, we drop 'survey_user-text' in modeling\n",
    "\n",
    "#data['survey_response'].value_counts()"
   ]
  },
  {
   "cell_type": "code",
   "execution_count": 29,
   "metadata": {
    "collapsed": false
   },
   "outputs": [
    {
     "data": {
      "text/plain": [
       "General                                    198543\n",
       "Search Engine                                6537\n",
       "Friend or Family                             4077\n",
       "Blog or Website                              2557\n",
       "Event                                         943\n",
       "Employer or Co-worker                         818\n",
       "Radio Ad                                      363\n",
       "Parking Facility                              328\n",
       "Received a promo code                         292\n",
       "Social Media                                  255\n",
       "Press                                         160\n",
       "App Store (e.g. iTunes or Google Play)        130\n",
       "TV                                             65\n",
       "Outdoor Ad (e.g. billboard, bus, train)        60\n",
       "Direct Mail Coupon/Flyer                       41\n",
       "Elevator Ad                                    33\n",
       "Craigslist                                     22\n",
       "Ad on a Website or Mobile App                  11\n",
       "Name: survey_response, dtype: int64"
      ]
     },
     "execution_count": 29,
     "metadata": {},
     "output_type": "execute_result"
    }
   ],
   "source": [
    "words_to_match=['Search','Friend','Blog','Ad on a Website','Website','Parking','Social','Press','Elevator','Received','Event',\n",
    "               'Ad on a website','Employer']\n",
    "list_of_responses=['Search Engine','Friend or Family','Blog or Website', 'Ad on a Website or Mobile App', 'Blog or Website',\n",
    "                   'Parking Facility','Social Media','Press','Elevator Ad','Received a promo code','Event',\n",
    "                   'Ad on a Website or Mobile App','Employer or Co-worker']\n",
    "i=0\n",
    "for word in words_to_match:\n",
    "    data.loc[data['survey_response'].str.contains(word), 'survey_response']=list_of_responses[i]\n",
    "    i=i+1\n",
    "data['survey_response'].value_counts()"
   ]
  },
  {
   "cell_type": "code",
   "execution_count": 30,
   "metadata": {
    "collapsed": false
   },
   "outputs": [
    {
     "data": {
      "text/plain": [
       "organic                    73461\n",
       "cpc                        62913\n",
       "(none)                     47524\n",
       "referral                   21480\n",
       "email                       3740\n",
       "desktopweb                  1887\n",
       "Website                     1319\n",
       "iosapp                      1137\n",
       "website                      779\n",
       "androidapp                   405\n",
       "partnerships                 274\n",
       "Partnerships                 123\n",
       "partner                       72\n",
       "(not set)                     33\n",
       "desktop                       33\n",
       "display                       14\n",
       "Online                         7\n",
       "mobile                         7\n",
       "operator page                  6\n",
       "social                         5\n",
       "Email                          3\n",
       "tablet                         3\n",
       "Account                        2\n",
       "Chat                           2\n",
       "Facebook                       2\n",
       "soldier-field                  1\n",
       "partners                       1\n",
       "Address: 200 W Adams St        1\n",
       "affiliate                      1\n",
       "Name: google_analytics_medium, dtype: int64"
      ]
     },
     "execution_count": 30,
     "metadata": {},
     "output_type": "execute_result"
    }
   ],
   "source": [
    "#save for now from cleansing, cause not used in model, but consider do visualization\n",
    "data['google_analytics_medium'].value_counts()"
   ]
  },
  {
   "cell_type": "code",
   "execution_count": 32,
   "metadata": {
    "collapsed": false
   },
   "outputs": [
    {
     "data": {
      "text/plain": [
       "Index(['reservation_id', 'is_first_purchase', 'rental_source',\n",
       "       'rental_source_operating_system', 'reservation_event_id',\n",
       "       'discount_promocode_redemption_id', 'reservation_status',\n",
       "       'cancellation_reason', 'discount_promocode_campaign_channel', 'market',\n",
       "       'facility_id', 'facility_height_restriction', 'facility_type',\n",
       "       'user_id', 'user_email_suffix', 'user_signup_source',\n",
       "       'user_signup_timestamp', 'user_referral_credit_confirmed', 'survey_id',\n",
       "       'survey_response', 'survey_user_text', 'google_analytics_id',\n",
       "       'google_analytics_medium', 'label', 'for_event', 'has_promocode',\n",
       "       'took_survey', 'Book_by_Mistake', 'Lost', 'Reservation_Update',\n",
       "       'Location_Closed', 'Supply_Request', 'Operation_Error', 'Testing',\n",
       "       'Fraud', 'Windows', 'iOS', 'Mac', 'Chrome', 'Linux', 'Ubuntu',\n",
       "       'Other_system', 'market2', 'user_email'],\n",
       "      dtype='object')"
      ]
     },
     "execution_count": 32,
     "metadata": {},
     "output_type": "execute_result"
    }
   ],
   "source": [
    "#write processed data to local csv file (pre-onehot-encoded)\n",
    "#data.to_csv(\"spothero_data2.csv\",sep=',',header=True,index=False)\n",
    "data.columns"
   ]
  },
  {
   "cell_type": "markdown",
   "metadata": {},
   "source": [
    "## OneHot Encoding & Feature Selection\n",
    "need to onehot encode all the multi-level categorical variables for models (Logistic Regression, GBM, Decision Tree)\n",
    "also make sure all the binary variables are encoded in 0 and 1"
   ]
  },
  {
   "cell_type": "code",
   "execution_count": 33,
   "metadata": {
    "collapsed": false
   },
   "outputs": [],
   "source": [
    "#drop 'facility_height_restriction' from model:\n",
    "cols_numeric=[]\n",
    "#drop cancellation_reason columns from model: 'Book_by_Mistake', 'Lost', 'Reservation_Update','Locatoin_Closed', 'Supply_Request', \n",
    "#'Operation_Error', 'Testing','Fraud', 'Location_Closed',\n",
    "cols_index_binary=[ 'Windows', 'iOS', 'Mac', 'Chrome', 'Linux',\n",
    "       'Ubuntu', 'Other_system']\n",
    "\n",
    "cols_to_onehot=['is_first_purchase','rental_source','reservation_status','discount_promocode_campaign_channel', \n",
    "                'facility_type','user_signup_source', 'survey_response','market2','user_email']\n",
    "for col in cols_index_binary:\n",
    "    data[col]=data[col].astype('category')\n",
    "for col in cols_to_onehot:\n",
    "    data[col]=data[col].astype('category')"
   ]
  },
  {
   "cell_type": "code",
   "execution_count": 34,
   "metadata": {
    "collapsed": false,
    "scrolled": true
   },
   "outputs": [
    {
     "data": {
      "text/plain": [
       "Index(['is_first_purchase_f', 'is_first_purchase_t',\n",
       "       'rental_source_mobile-web', 'rental_source_web',\n",
       "       'rental_source_widget-js', 'reservation_status_cancelled',\n",
       "       'reservation_status_valid',\n",
       "       'discount_promocode_campaign_channel_Business Partnerships',\n",
       "       'discount_promocode_campaign_channel_Deal Sites',\n",
       "       'discount_promocode_campaign_channel_Email',\n",
       "       'discount_promocode_campaign_channel_Employee Promo Codes',\n",
       "       'discount_promocode_campaign_channel_Hero Customer Service Codes',\n",
       "       'discount_promocode_campaign_channel_Other',\n",
       "       'discount_promocode_campaign_channel_Paid Search',\n",
       "       'discount_promocode_campaign_channel_Partnerships',\n",
       "       'discount_promocode_campaign_channel_Radio ',\n",
       "       'discount_promocode_campaign_channel_Site ',\n",
       "       'discount_promocode_campaign_channel_Social Media',\n",
       "       'discount_promocode_campaign_channel_off campaign',\n",
       "       'facility_type_garage', 'facility_type_lot',\n",
       "       'facility_type_personal_spot', 'user_signup_source_android',\n",
       "       'user_signup_source_ios', 'user_signup_source_manual',\n",
       "       'user_signup_source_web',\n",
       "       'survey_response_Ad on a Website or Mobile App',\n",
       "       'survey_response_App Store (e.g. iTunes or Google Play)',\n",
       "       'survey_response_Blog or Website', 'survey_response_Craigslist',\n",
       "       'survey_response_Direct Mail Coupon/Flyer',\n",
       "       'survey_response_Elevator Ad', 'survey_response_Employer or Co-worker',\n",
       "       'survey_response_Event', 'survey_response_Friend or Family',\n",
       "       'survey_response_General',\n",
       "       'survey_response_Outdoor Ad (e.g. billboard, bus, train)',\n",
       "       'survey_response_Parking Facility', 'survey_response_Press',\n",
       "       'survey_response_Radio Ad', 'survey_response_Received a promo code',\n",
       "       'survey_response_Search Engine', 'survey_response_Social Media',\n",
       "       'survey_response_TV', 'market2_Baltimore', 'market2_Boston',\n",
       "       'market2_Chicago', 'market2_Denver', 'market2_Los Angeles',\n",
       "       'market2_Milwaukee', 'market2_New York', 'market2_Newark',\n",
       "       'market2_Other', 'market2_Philadelphia', 'market2_San Francisco',\n",
       "       'market2_Washington', 'user_email_Other', 'user_email_aol.com',\n",
       "       'user_email_comcast.net', 'user_email_gmail.com',\n",
       "       'user_email_hotmail.com', 'user_email_yahoo.com'],\n",
       "      dtype='object')"
      ]
     },
     "execution_count": 34,
     "metadata": {},
     "output_type": "execute_result"
    }
   ],
   "source": [
    "cols_onehot=pd.get_dummies(data[cols_to_onehot], prefix=cols_to_onehot)\n",
    "cols_onehot.columns"
   ]
  },
  {
   "cell_type": "code",
   "execution_count": 35,
   "metadata": {
    "collapsed": true
   },
   "outputs": [],
   "source": [
    "#3exclude base level column for each categorical variables:\n",
    "#base categorical variables: 'is_first_purchase_f', 'rental_source_widget-js', 'reservation_status_cancelled', \n",
    "#'discount_promocode_campaign_channel_Other','facility_type_personal_spot', 'user_signup_source_manual', 'survey_response_General',\n",
    "#'market2_Other',     'user_email_Other', \n",
    "for col in cols_onehot.columns:\n",
    "    cols_onehot[col]=cols_onehot[col].astype('category')\n",
    "\n",
    "#also drop facility_type - 'facility_type_garage', 'facility_type_lot',  \n",
    "onehot_to_model=['is_first_purchase_t',\n",
    "       'rental_source_mobile-web', 'rental_source_web',\n",
    "       'reservation_status_valid',\n",
    "       'discount_promocode_campaign_channel_Business Partnerships',\n",
    "       'discount_promocode_campaign_channel_Deal Sites',\n",
    "       'discount_promocode_campaign_channel_Email',\n",
    "       'discount_promocode_campaign_channel_Employee Promo Codes',\n",
    "       'discount_promocode_campaign_channel_Hero Customer Service Codes',\n",
    "       'discount_promocode_campaign_channel_Paid Search',\n",
    "       'discount_promocode_campaign_channel_Partnerships',\n",
    "       'discount_promocode_campaign_channel_Radio ',\n",
    "       'discount_promocode_campaign_channel_Site ',\n",
    "       'discount_promocode_campaign_channel_Social Media',\n",
    "       'discount_promocode_campaign_channel_off campaign',\n",
    "       'user_signup_source_android',\n",
    "       'user_signup_source_ios', \n",
    "       'user_signup_source_web',\n",
    "       'survey_response_Ad on a Website or Mobile App',\n",
    "       'survey_response_App Store (e.g. iTunes or Google Play)',\n",
    "       'survey_response_Craigslist',\n",
    "       'survey_response_Direct Mail Coupon/Flyer',\n",
    "       'survey_response_Employer or Co-worker', 'survey_response_Event',\n",
    "       'survey_response_Outdoor Ad (e.g. billboard, bus, train)',\n",
    "       'survey_response_Radio Ad', 'survey_response_Received a promo code',\n",
    "       'survey_response_Search Engine', 'survey_response_TV',\n",
    "       'market2_Baltimore', 'market2_Boston', 'market2_Chicago',\n",
    "       'market2_Denver', 'market2_Los Angeles', 'market2_Milwaukee',\n",
    "       'market2_New York', 'market2_Newark', \n",
    "       'market2_Philadelphia', 'market2_San Francisco', 'market2_Washington',\n",
    "       'user_email_aol.com', 'user_email_comcast.net',\n",
    "       'user_email_gmail.com', 'user_email_hotmail.com',\n",
    "       'user_email_yahoo.com']"
   ]
  },
  {
   "cell_type": "code",
   "execution_count": 43,
   "metadata": {
    "collapsed": false
   },
   "outputs": [
    {
     "data": {
      "text/html": [
       "<div>\n",
       "<table border=\"1\" class=\"dataframe\">\n",
       "  <thead>\n",
       "    <tr style=\"text-align: right;\">\n",
       "      <th></th>\n",
       "      <th>Windows</th>\n",
       "      <th>iOS</th>\n",
       "      <th>Mac</th>\n",
       "      <th>Chrome</th>\n",
       "      <th>Linux</th>\n",
       "      <th>Ubuntu</th>\n",
       "      <th>Other_system</th>\n",
       "      <th>is_first_purchase_t</th>\n",
       "      <th>rental_source_mobile-web</th>\n",
       "      <th>rental_source_web</th>\n",
       "      <th>...</th>\n",
       "      <th>market2_New York</th>\n",
       "      <th>market2_Newark</th>\n",
       "      <th>market2_Philadelphia</th>\n",
       "      <th>market2_San Francisco</th>\n",
       "      <th>market2_Washington</th>\n",
       "      <th>user_email_aol.com</th>\n",
       "      <th>user_email_comcast.net</th>\n",
       "      <th>user_email_gmail.com</th>\n",
       "      <th>user_email_hotmail.com</th>\n",
       "      <th>user_email_yahoo.com</th>\n",
       "    </tr>\n",
       "  </thead>\n",
       "  <tbody>\n",
       "    <tr>\n",
       "      <th>0</th>\n",
       "      <td>0.0</td>\n",
       "      <td>0.0</td>\n",
       "      <td>1.0</td>\n",
       "      <td>0.0</td>\n",
       "      <td>0.0</td>\n",
       "      <td>0.0</td>\n",
       "      <td>0.0</td>\n",
       "      <td>1.0</td>\n",
       "      <td>0.0</td>\n",
       "      <td>1.0</td>\n",
       "      <td>...</td>\n",
       "      <td>0.0</td>\n",
       "      <td>0.0</td>\n",
       "      <td>0.0</td>\n",
       "      <td>0.0</td>\n",
       "      <td>0.0</td>\n",
       "      <td>0.0</td>\n",
       "      <td>0.0</td>\n",
       "      <td>1.0</td>\n",
       "      <td>0.0</td>\n",
       "      <td>0.0</td>\n",
       "    </tr>\n",
       "    <tr>\n",
       "      <th>1</th>\n",
       "      <td>1.0</td>\n",
       "      <td>0.0</td>\n",
       "      <td>0.0</td>\n",
       "      <td>0.0</td>\n",
       "      <td>0.0</td>\n",
       "      <td>0.0</td>\n",
       "      <td>0.0</td>\n",
       "      <td>1.0</td>\n",
       "      <td>0.0</td>\n",
       "      <td>1.0</td>\n",
       "      <td>...</td>\n",
       "      <td>0.0</td>\n",
       "      <td>0.0</td>\n",
       "      <td>0.0</td>\n",
       "      <td>0.0</td>\n",
       "      <td>0.0</td>\n",
       "      <td>0.0</td>\n",
       "      <td>0.0</td>\n",
       "      <td>0.0</td>\n",
       "      <td>0.0</td>\n",
       "      <td>1.0</td>\n",
       "    </tr>\n",
       "    <tr>\n",
       "      <th>2</th>\n",
       "      <td>1.0</td>\n",
       "      <td>0.0</td>\n",
       "      <td>0.0</td>\n",
       "      <td>0.0</td>\n",
       "      <td>0.0</td>\n",
       "      <td>0.0</td>\n",
       "      <td>0.0</td>\n",
       "      <td>0.0</td>\n",
       "      <td>0.0</td>\n",
       "      <td>1.0</td>\n",
       "      <td>...</td>\n",
       "      <td>0.0</td>\n",
       "      <td>0.0</td>\n",
       "      <td>0.0</td>\n",
       "      <td>0.0</td>\n",
       "      <td>0.0</td>\n",
       "      <td>0.0</td>\n",
       "      <td>0.0</td>\n",
       "      <td>0.0</td>\n",
       "      <td>0.0</td>\n",
       "      <td>0.0</td>\n",
       "    </tr>\n",
       "    <tr>\n",
       "      <th>3</th>\n",
       "      <td>1.0</td>\n",
       "      <td>0.0</td>\n",
       "      <td>0.0</td>\n",
       "      <td>0.0</td>\n",
       "      <td>0.0</td>\n",
       "      <td>0.0</td>\n",
       "      <td>0.0</td>\n",
       "      <td>1.0</td>\n",
       "      <td>0.0</td>\n",
       "      <td>1.0</td>\n",
       "      <td>...</td>\n",
       "      <td>0.0</td>\n",
       "      <td>0.0</td>\n",
       "      <td>0.0</td>\n",
       "      <td>0.0</td>\n",
       "      <td>0.0</td>\n",
       "      <td>0.0</td>\n",
       "      <td>1.0</td>\n",
       "      <td>0.0</td>\n",
       "      <td>0.0</td>\n",
       "      <td>0.0</td>\n",
       "    </tr>\n",
       "    <tr>\n",
       "      <th>4</th>\n",
       "      <td>1.0</td>\n",
       "      <td>0.0</td>\n",
       "      <td>0.0</td>\n",
       "      <td>0.0</td>\n",
       "      <td>0.0</td>\n",
       "      <td>0.0</td>\n",
       "      <td>0.0</td>\n",
       "      <td>0.0</td>\n",
       "      <td>0.0</td>\n",
       "      <td>1.0</td>\n",
       "      <td>...</td>\n",
       "      <td>0.0</td>\n",
       "      <td>0.0</td>\n",
       "      <td>0.0</td>\n",
       "      <td>0.0</td>\n",
       "      <td>0.0</td>\n",
       "      <td>0.0</td>\n",
       "      <td>0.0</td>\n",
       "      <td>1.0</td>\n",
       "      <td>0.0</td>\n",
       "      <td>0.0</td>\n",
       "    </tr>\n",
       "    <tr>\n",
       "      <th>5</th>\n",
       "      <td>1.0</td>\n",
       "      <td>0.0</td>\n",
       "      <td>0.0</td>\n",
       "      <td>0.0</td>\n",
       "      <td>0.0</td>\n",
       "      <td>0.0</td>\n",
       "      <td>0.0</td>\n",
       "      <td>1.0</td>\n",
       "      <td>0.0</td>\n",
       "      <td>1.0</td>\n",
       "      <td>...</td>\n",
       "      <td>0.0</td>\n",
       "      <td>0.0</td>\n",
       "      <td>0.0</td>\n",
       "      <td>0.0</td>\n",
       "      <td>0.0</td>\n",
       "      <td>0.0</td>\n",
       "      <td>0.0</td>\n",
       "      <td>0.0</td>\n",
       "      <td>0.0</td>\n",
       "      <td>0.0</td>\n",
       "    </tr>\n",
       "    <tr>\n",
       "      <th>6</th>\n",
       "      <td>1.0</td>\n",
       "      <td>0.0</td>\n",
       "      <td>0.0</td>\n",
       "      <td>0.0</td>\n",
       "      <td>0.0</td>\n",
       "      <td>0.0</td>\n",
       "      <td>0.0</td>\n",
       "      <td>1.0</td>\n",
       "      <td>0.0</td>\n",
       "      <td>1.0</td>\n",
       "      <td>...</td>\n",
       "      <td>1.0</td>\n",
       "      <td>0.0</td>\n",
       "      <td>0.0</td>\n",
       "      <td>0.0</td>\n",
       "      <td>0.0</td>\n",
       "      <td>0.0</td>\n",
       "      <td>0.0</td>\n",
       "      <td>0.0</td>\n",
       "      <td>0.0</td>\n",
       "      <td>1.0</td>\n",
       "    </tr>\n",
       "    <tr>\n",
       "      <th>7</th>\n",
       "      <td>1.0</td>\n",
       "      <td>0.0</td>\n",
       "      <td>0.0</td>\n",
       "      <td>0.0</td>\n",
       "      <td>0.0</td>\n",
       "      <td>0.0</td>\n",
       "      <td>0.0</td>\n",
       "      <td>0.0</td>\n",
       "      <td>0.0</td>\n",
       "      <td>1.0</td>\n",
       "      <td>...</td>\n",
       "      <td>0.0</td>\n",
       "      <td>0.0</td>\n",
       "      <td>0.0</td>\n",
       "      <td>0.0</td>\n",
       "      <td>0.0</td>\n",
       "      <td>0.0</td>\n",
       "      <td>0.0</td>\n",
       "      <td>0.0</td>\n",
       "      <td>0.0</td>\n",
       "      <td>0.0</td>\n",
       "    </tr>\n",
       "    <tr>\n",
       "      <th>8</th>\n",
       "      <td>1.0</td>\n",
       "      <td>0.0</td>\n",
       "      <td>0.0</td>\n",
       "      <td>0.0</td>\n",
       "      <td>0.0</td>\n",
       "      <td>0.0</td>\n",
       "      <td>0.0</td>\n",
       "      <td>1.0</td>\n",
       "      <td>0.0</td>\n",
       "      <td>1.0</td>\n",
       "      <td>...</td>\n",
       "      <td>0.0</td>\n",
       "      <td>0.0</td>\n",
       "      <td>0.0</td>\n",
       "      <td>0.0</td>\n",
       "      <td>0.0</td>\n",
       "      <td>1.0</td>\n",
       "      <td>0.0</td>\n",
       "      <td>0.0</td>\n",
       "      <td>0.0</td>\n",
       "      <td>0.0</td>\n",
       "    </tr>\n",
       "    <tr>\n",
       "      <th>9</th>\n",
       "      <td>0.0</td>\n",
       "      <td>0.0</td>\n",
       "      <td>1.0</td>\n",
       "      <td>0.0</td>\n",
       "      <td>0.0</td>\n",
       "      <td>0.0</td>\n",
       "      <td>0.0</td>\n",
       "      <td>1.0</td>\n",
       "      <td>0.0</td>\n",
       "      <td>1.0</td>\n",
       "      <td>...</td>\n",
       "      <td>0.0</td>\n",
       "      <td>0.0</td>\n",
       "      <td>0.0</td>\n",
       "      <td>0.0</td>\n",
       "      <td>1.0</td>\n",
       "      <td>0.0</td>\n",
       "      <td>0.0</td>\n",
       "      <td>1.0</td>\n",
       "      <td>0.0</td>\n",
       "      <td>0.0</td>\n",
       "    </tr>\n",
       "  </tbody>\n",
       "</table>\n",
       "<p>10 rows × 52 columns</p>\n",
       "</div>"
      ],
      "text/plain": [
       "  Windows  iOS  Mac Chrome Linux Ubuntu Other_system is_first_purchase_t  \\\n",
       "0     0.0  0.0  1.0    0.0   0.0    0.0          0.0                 1.0   \n",
       "1     1.0  0.0  0.0    0.0   0.0    0.0          0.0                 1.0   \n",
       "2     1.0  0.0  0.0    0.0   0.0    0.0          0.0                 0.0   \n",
       "3     1.0  0.0  0.0    0.0   0.0    0.0          0.0                 1.0   \n",
       "4     1.0  0.0  0.0    0.0   0.0    0.0          0.0                 0.0   \n",
       "5     1.0  0.0  0.0    0.0   0.0    0.0          0.0                 1.0   \n",
       "6     1.0  0.0  0.0    0.0   0.0    0.0          0.0                 1.0   \n",
       "7     1.0  0.0  0.0    0.0   0.0    0.0          0.0                 0.0   \n",
       "8     1.0  0.0  0.0    0.0   0.0    0.0          0.0                 1.0   \n",
       "9     0.0  0.0  1.0    0.0   0.0    0.0          0.0                 1.0   \n",
       "\n",
       "  rental_source_mobile-web rental_source_web         ...           \\\n",
       "0                      0.0               1.0         ...            \n",
       "1                      0.0               1.0         ...            \n",
       "2                      0.0               1.0         ...            \n",
       "3                      0.0               1.0         ...            \n",
       "4                      0.0               1.0         ...            \n",
       "5                      0.0               1.0         ...            \n",
       "6                      0.0               1.0         ...            \n",
       "7                      0.0               1.0         ...            \n",
       "8                      0.0               1.0         ...            \n",
       "9                      0.0               1.0         ...            \n",
       "\n",
       "  market2_New York market2_Newark market2_Philadelphia market2_San Francisco  \\\n",
       "0              0.0            0.0                  0.0                   0.0   \n",
       "1              0.0            0.0                  0.0                   0.0   \n",
       "2              0.0            0.0                  0.0                   0.0   \n",
       "3              0.0            0.0                  0.0                   0.0   \n",
       "4              0.0            0.0                  0.0                   0.0   \n",
       "5              0.0            0.0                  0.0                   0.0   \n",
       "6              1.0            0.0                  0.0                   0.0   \n",
       "7              0.0            0.0                  0.0                   0.0   \n",
       "8              0.0            0.0                  0.0                   0.0   \n",
       "9              0.0            0.0                  0.0                   0.0   \n",
       "\n",
       "  market2_Washington user_email_aol.com user_email_comcast.net  \\\n",
       "0                0.0                0.0                    0.0   \n",
       "1                0.0                0.0                    0.0   \n",
       "2                0.0                0.0                    0.0   \n",
       "3                0.0                0.0                    1.0   \n",
       "4                0.0                0.0                    0.0   \n",
       "5                0.0                0.0                    0.0   \n",
       "6                0.0                0.0                    0.0   \n",
       "7                0.0                0.0                    0.0   \n",
       "8                0.0                1.0                    0.0   \n",
       "9                1.0                0.0                    0.0   \n",
       "\n",
       "  user_email_gmail.com user_email_hotmail.com user_email_yahoo.com  \n",
       "0                  1.0                    0.0                  0.0  \n",
       "1                  0.0                    0.0                  1.0  \n",
       "2                  0.0                    0.0                  0.0  \n",
       "3                  0.0                    0.0                  0.0  \n",
       "4                  1.0                    0.0                  0.0  \n",
       "5                  0.0                    0.0                  0.0  \n",
       "6                  0.0                    0.0                  1.0  \n",
       "7                  0.0                    0.0                  0.0  \n",
       "8                  0.0                    0.0                  0.0  \n",
       "9                  1.0                    0.0                  0.0  \n",
       "\n",
       "[10 rows x 52 columns]"
      ]
     },
     "execution_count": 43,
     "metadata": {},
     "output_type": "execute_result"
    }
   ],
   "source": [
    "cols_to_model=pd.concat([data[cols_numeric],data[cols_index_binary], cols_onehot[onehot_to_model]],axis=1)\n",
    "cols_to_model.head(10)"
   ]
  },
  {
   "cell_type": "code",
   "execution_count": 44,
   "metadata": {
    "collapsed": true
   },
   "outputs": [],
   "source": [
    "#write out processed hold-out test set ready to enter trained model:\n",
    "cols_to_model.to_csv(\"cols_to_model_holdout.csv\", sep=',', header=True, index=False)\n",
    "#write out key 'user_id' to concatenate with model prediction output:\n",
    "user_id_holdout=data['user_id']\n",
    "user_id_holdout.to_csv(\"user_id_holdout.csv\", sep=',', header=True, index=False)"
   ]
  },
  {
   "cell_type": "code",
   "execution_count": 47,
   "metadata": {
    "collapsed": false
   },
   "outputs": [
    {
     "data": {
      "text/plain": [
       "Index(['Windows', 'iOS', 'Mac', 'Chrome', 'Linux', 'Ubuntu', 'Other_system',\n",
       "       'is_first_purchase_t', 'rental_source_mobile-web', 'rental_source_web',\n",
       "       'reservation_status_valid',\n",
       "       'discount_promocode_campaign_channel_Business Partnerships',\n",
       "       'discount_promocode_campaign_channel_Deal Sites',\n",
       "       'discount_promocode_campaign_channel_Email',\n",
       "       'discount_promocode_campaign_channel_Employee Promo Codes',\n",
       "       'discount_promocode_campaign_channel_Hero Customer Service Codes',\n",
       "       'discount_promocode_campaign_channel_Paid Search',\n",
       "       'discount_promocode_campaign_channel_Partnerships',\n",
       "       'discount_promocode_campaign_channel_Radio ',\n",
       "       'discount_promocode_campaign_channel_Site ',\n",
       "       'discount_promocode_campaign_channel_Social Media',\n",
       "       'discount_promocode_campaign_channel_off campaign',\n",
       "       'user_signup_source_android', 'user_signup_source_ios',\n",
       "       'user_signup_source_web',\n",
       "       'survey_response_Ad on a Website or Mobile App',\n",
       "       'survey_response_App Store (e.g. iTunes or Google Play)',\n",
       "       'survey_response_Craigslist',\n",
       "       'survey_response_Direct Mail Coupon/Flyer',\n",
       "       'survey_response_Employer or Co-worker', 'survey_response_Event',\n",
       "       'survey_response_Outdoor Ad (e.g. billboard, bus, train)',\n",
       "       'survey_response_Radio Ad', 'survey_response_Received a promo code',\n",
       "       'survey_response_Search Engine', 'survey_response_TV',\n",
       "       'market2_Baltimore', 'market2_Boston', 'market2_Chicago',\n",
       "       'market2_Denver', 'market2_Los Angeles', 'market2_Milwaukee',\n",
       "       'market2_New York', 'market2_Newark', 'market2_Philadelphia',\n",
       "       'market2_San Francisco', 'market2_Washington', 'user_email_aol.com',\n",
       "       'user_email_comcast.net', 'user_email_gmail.com',\n",
       "       'user_email_hotmail.com', 'user_email_yahoo.com'],\n",
       "      dtype='object')"
      ]
     },
     "execution_count": 47,
     "metadata": {},
     "output_type": "execute_result"
    }
   ],
   "source": [
    "cols_to_model.shape\n",
    "cols_to_model.columns"
   ]
  },
  {
   "cell_type": "code",
   "execution_count": null,
   "metadata": {
    "collapsed": true
   },
   "outputs": [],
   "source": []
  }
 ],
 "metadata": {
  "anaconda-cloud": {},
  "kernelspec": {
   "display_name": "Python [conda root]",
   "language": "python",
   "name": "conda-root-py"
  },
  "language_info": {
   "codemirror_mode": {
    "name": "ipython",
    "version": 3
   },
   "file_extension": ".py",
   "mimetype": "text/x-python",
   "name": "python",
   "nbconvert_exporter": "python",
   "pygments_lexer": "ipython3",
   "version": "3.5.2"
  }
 },
 "nbformat": 4,
 "nbformat_minor": 1
}
