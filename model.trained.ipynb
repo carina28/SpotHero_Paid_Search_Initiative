{
 "cells": [
  {
   "cell_type": "markdown",
   "metadata": {},
   "source": [
    "# Spot Hero Paid Search Effectiveness "
   ]
  },
  {
   "cell_type": "code",
   "execution_count": 8,
   "metadata": {
    "collapsed": false
   },
   "outputs": [
    {
     "data": {
      "image/png": "[encoded data removed]",
      "text/plain": [
       "<IPython.core.display.Image object>"
      ]
     },
     "execution_count": 8,
     "metadata": {
      "image/png": {
       "height": 350,
       "width": 450
      }
     },
     "output_type": "execute_result"
    }
   ],
   "source": [
    "from IPython.display import Image\n",
    "Image(filename = 'Capture.png', width=450, height=350)"
   ]
  },
  {
   "cell_type": "markdown",
   "metadata": {},
   "source": [
    "## Paid Search Predictive Model Training"
   ]
  },
  {
   "cell_type": "code",
   "execution_count": 266,
   "metadata": {
    "collapsed": true
   },
   "outputs": [],
   "source": [
    "import numpy as np\n",
    "import pandas as pd\n",
    "import matplotlib.pyplot as plt\n",
    "#enable IPython to display matplotlib graphs\n",
    "%matplotlib inline\n",
    "import csv"
   ]
  },
  {
   "cell_type": "code",
   "execution_count": 415,
   "metadata": {
    "collapsed": false
   },
   "outputs": [
    {
     "data": {
      "text/plain": [
       "(215235, 23)"
      ]
     },
     "execution_count": 415,
     "metadata": {},
     "output_type": "execute_result"
    }
   ],
   "source": [
    "#read in training data set\n",
    "data=pd.read_csv('spothero_ds_takehome.csv')\n",
    "data.head(10)\n",
    "data.shape"
   ]
  },
  {
   "cell_type": "code",
   "execution_count": 268,
   "metadata": {
    "collapsed": false
   },
   "outputs": [
    {
     "data": {
      "text/plain": [
       "Index(['reservation_id', 'is_first_purchase', 'rental_source',\n",
       "       'rental_source_operating_system', 'reservation_event_id',\n",
       "       'discount_promocode_redemption_id', 'reservation_status',\n",
       "       'cancellation_reason', 'discount_promocode_campaign_channel', 'market',\n",
       "       'facility_id', 'facility_height_restriction', 'facility_type',\n",
       "       'user_id', 'user_email_suffix', 'user_signup_source',\n",
       "       'user_signup_timestamp', 'user_referral_credit_confirmed', 'survey_id',\n",
       "       'survey_response', 'survey_user_text', 'google_analytics_id',\n",
       "       'google_analytics_medium'],\n",
       "      dtype='object')"
      ]
     },
     "execution_count": 268,
     "metadata": {},
     "output_type": "execute_result"
    }
   ],
   "source": [
    "data.columns"
   ]
  },
  {
   "cell_type": "code",
   "execution_count": 269,
   "metadata": {
    "collapsed": false
   },
   "outputs": [
    {
     "data": {
      "text/plain": [
       "organic                    73461\n",
       "cpc                        62913\n",
       "(none)                     47524\n",
       "referral                   21480\n",
       "email                       3740\n",
       "desktopweb                  1887\n",
       "Website                     1319\n",
       "iosapp                      1137\n",
       "website                      779\n",
       "androidapp                   405\n",
       "partnerships                 274\n",
       "Partnerships                 123\n",
       "partner                       72\n",
       "(not set)                     33\n",
       "desktop                       33\n",
       "display                       14\n",
       "Online                         7\n",
       "mobile                         7\n",
       "operator page                  6\n",
       "social                         5\n",
       "Email                          3\n",
       "tablet                         3\n",
       "Account                        2\n",
       "Chat                           2\n",
       "Facebook                       2\n",
       "soldier-field                  1\n",
       "partners                       1\n",
       "Address: 200 W Adams St        1\n",
       "affiliate                      1\n",
       "Name: google_analytics_medium, dtype: int64"
      ]
     },
     "execution_count": 269,
     "metadata": {},
     "output_type": "execute_result"
    }
   ],
   "source": [
    "data['google_analytics_medium'].value_counts()\n",
    "#numeric variables: none (really? maybe 'facility_height_restriction', consider recode into bins)\n",
    "#categorical variables with levels > 10: 'rental_source_operating_system', 'facility_height_restriction', \n",
    "#'user_email_suffix', 'cancellation_reason','discount_promocode_redemption_id','market', 'survey_response', 'survey_user_text', google_analytics_medium'\n",
    "#consider recode to reduce dimension for categorical variables with level > 10"
   ]
  },
  {
   "cell_type": "code",
   "execution_count": 270,
   "metadata": {
    "collapsed": false
   },
   "outputs": [
    {
     "data": {
      "text/plain": [
       "(215235, 23)"
      ]
     },
     "execution_count": 270,
     "metadata": {},
     "output_type": "execute_result"
    }
   ],
   "source": [
    "#rows with missing value check:\n",
    "data.shape #(215235, 23)\n",
    "nan_rows = lambda df: df[df.isnull().any(axis=1)]\n",
    "nan_rows(data).shape #all rows have NaNs"
   ]
  },
  {
   "cell_type": "code",
   "execution_count": 271,
   "metadata": {
    "collapsed": false
   },
   "outputs": [
    {
     "data": {
      "text/plain": [
       "['reservation_event_id',\n",
       " 'discount_promocode_redemption_id',\n",
       " 'cancellation_reason',\n",
       " 'discount_promocode_campaign_channel',\n",
       " 'facility_height_restriction',\n",
       " 'facility_type',\n",
       " 'user_referral_credit_confirmed',\n",
       " 'survey_id',\n",
       " 'survey_response',\n",
       " 'survey_user_text']"
      ]
     },
     "execution_count": 271,
     "metadata": {},
     "output_type": "execute_result"
    }
   ],
   "source": [
    "#colomns with missing value check:\n",
    "nan_cols = lambda df: df.columns[df.isnull().any()].tolist()\n",
    "nan_cols(data)"
   ]
  },
  {
   "cell_type": "markdown",
   "metadata": {},
   "source": [
    "## Label Creation for Classification"
   ]
  },
  {
   "cell_type": "code",
   "execution_count": 273,
   "metadata": {
    "collapsed": false
   },
   "outputs": [
    {
     "data": {
      "text/plain": [
       "organic                    73461\n",
       "cpc                        62913\n",
       "(none)                     47524\n",
       "referral                   21480\n",
       "email                       3740\n",
       "desktopweb                  1887\n",
       "Website                     1319\n",
       "iosapp                      1137\n",
       "website                      779\n",
       "androidapp                   405\n",
       "partnerships                 274\n",
       "Partnerships                 123\n",
       "partner                       72\n",
       "(not set)                     33\n",
       "desktop                       33\n",
       "display                       14\n",
       "Online                         7\n",
       "mobile                         7\n",
       "operator page                  6\n",
       "social                         5\n",
       "Email                          3\n",
       "tablet                         3\n",
       "Account                        2\n",
       "Chat                           2\n",
       "Facebook                       2\n",
       "soldier-field                  1\n",
       "partners                       1\n",
       "Address: 200 W Adams St        1\n",
       "affiliate                      1\n",
       "Name: google_analytics_medium, dtype: int64"
      ]
     },
     "execution_count": 273,
     "metadata": {},
     "output_type": "execute_result"
    }
   ],
   "source": [
    "data['google_analytics_medium'].value_counts()"
   ]
  },
  {
   "cell_type": "code",
   "execution_count": 274,
   "metadata": {
    "collapsed": false
   },
   "outputs": [
    {
     "data": {
      "text/plain": [
       "0.0    152322\n",
       "1.0     62913\n",
       "Name: label, dtype: int64"
      ]
     },
     "execution_count": 274,
     "metadata": {},
     "output_type": "execute_result"
    }
   ],
   "source": [
    "#create response label: 1 if 'google_analytics_medium' == 'cpc', 0 otherwise\n",
    "data['label']=np.nan\n",
    "data.loc[data['google_analytics_medium']=='cpc', 'label']=1\n",
    "data.loc[data['label'].isnull(),'label']=0\n",
    "data['label'].value_counts()\n",
    "#data['label'].isnull().value_counts() #cleared"
   ]
  },
  {
   "cell_type": "markdown",
   "metadata": {},
   "source": [
    "# Feature Engineering\n",
    "\n",
    "columns = ['reservation_id', 'is_first_purchase', 'rental_source',\n",
    "       'rental_source_operating_system', 'reservation_event_id',\n",
    "       'discount_promocode_redemption_id', 'reservation_status',\n",
    "       'cancellation_reason', 'discount_promocode_campaign_channel', 'market',\n",
    "       'facility_id', 'facility_height_restriction', 'facility_type',\n",
    "       'user_id', 'user_email_suffix', 'user_signup_source',\n",
    "       'user_signup_timestamp', 'user_referral_credit_confirmed', 'survey_id',\n",
    "       'survey_response', 'survey_user_text', 'google_analytics_id',\n",
    "       'google_analytics_medium']\n",
    "       \n",
    "columns with missing values: ['reservation_event_id',\n",
    " 'discount_promocode_redemption_id',\n",
    " 'cancellation_reason',\n",
    " 'discount_promocode_campaign_channel',\n",
    " 'facility_height_restriction',\n",
    " 'facility_type',\n",
    " 'user_referral_credit_confirmed',\n",
    " 'survey_id',\n",
    " 'survey_response',\n",
    " 'survey_user_text']"
   ]
  },
  {
   "cell_type": "markdown",
   "metadata": {},
   "source": [
    "## Missin Values Imputation & Reengineering"
   ]
  },
  {
   "cell_type": "code",
   "execution_count": 275,
   "metadata": {
    "collapsed": false
   },
   "outputs": [
    {
     "data": {
      "text/plain": [
       "0.0    199699\n",
       "1.0     15536\n",
       "Name: for_event, dtype: int64"
      ]
     },
     "execution_count": 275,
     "metadata": {},
     "output_type": "execute_result"
    }
   ],
   "source": [
    "#1. create new binary variable 'for_event' from 'reservation_event_id' (1 for non empty fields, 0 for NaNs)\n",
    "#replace 'reservation_event_id' with 'for_event' in the model:\n",
    "data['for_event']=np.nan\n",
    "data.loc[~data['reservation_event_id'].isnull(),'for_event']=1\n",
    "data.loc[data['for_event']!=1,'for_event']=0\n",
    "data['for_event'].value_counts()\n",
    "#data['for_event'].isnull().value_counts() #all false, cleared"
   ]
  },
  {
   "cell_type": "code",
   "execution_count": 276,
   "metadata": {
    "collapsed": false
   },
   "outputs": [
    {
     "data": {
      "text/plain": [
       "0.0    201295\n",
       "1.0     13940\n",
       "Name: has_promocode, dtype: int64"
      ]
     },
     "execution_count": 276,
     "metadata": {},
     "output_type": "execute_result"
    }
   ],
   "source": [
    "##2. create new binary variable 'has_promocode' from 'discount_promocode_redemption_id' indicating whether a promo code was used \n",
    "data['has_promocode']=np.nan\n",
    "data.loc[~data['discount_promocode_redemption_id'].isnull(),'has_promocode']=1\n",
    "data.loc[data['has_promocode']!=1,'has_promocode']=0\n",
    "data['has_promocode'].value_counts()\n",
    "#data['has_promocode'].isnull().value_counts() #all false, cleared"
   ]
  },
  {
   "cell_type": "code",
   "execution_count": 277,
   "metadata": {
    "collapsed": false
   },
   "outputs": [],
   "source": [
    "#replacy all missin value in 'cancellation_reason' with 'other'\n",
    "#need to reduce dimension (extract factors) in the next section\n",
    "data.loc[data['cancellation_reason'].isnull(),'cancellation_reason']='Other'\n",
    "#data['cancellation_reason'].value_counts()\n",
    "#data['cancellation_reason'].isnull().value_counts() #all false, cleared\n"
   ]
  },
  {
   "cell_type": "code",
   "execution_count": 278,
   "metadata": {
    "collapsed": false
   },
   "outputs": [],
   "source": [
    "#missing values in 'discount_promocode_campaign_channel' is highly associated with whether a promocode is used when reserving\n",
    "data.loc[data[['discount_promocode_redemption_id','discount_promocode_campaign_channel']].isnull().all(axis=1),\n",
    "         ['discount_promocode_redemption_id','discount_promocode_campaign_channel']].shape #(201295, 2)\n",
    "#consider recoding all missing values into 'off campaign'\n",
    "data['discount_promocode_campaign_channel'].value_counts() #201560 missing value\n",
    "data.loc[data['discount_promocode_campaign_channel'].isnull(),'discount_promocode_campaign_channel']='off campaign'\n",
    "#data['discount_promocode_campaign_channel'].isnull().value_counts() #all false, cleared"
   ]
  },
  {
   "cell_type": "code",
   "execution_count": 279,
   "metadata": {
    "collapsed": false
   },
   "outputs": [
    {
     "data": {
      "text/plain": [
       "False    215235\n",
       "Name: facility_height_restriction, dtype: int64"
      ]
     },
     "execution_count": 279,
     "metadata": {},
     "output_type": "execute_result"
    }
   ],
   "source": [
    "#impute missing values in 'facility_height_restriction' with mode value (80)\n",
    "data['facility_height_restriction'].isnull().value_counts() #62995 missing values\n",
    "#df.mode() returns a dataframe\n",
    "data.loc[data['facility_height_restriction'].isnull(),\n",
    "         'facility_height_restriction']=data['facility_height_restriction'].mode()[0]\n",
    "data['facility_height_restriction'].isnull().value_counts() #cleared"
   ]
  },
  {
   "cell_type": "code",
   "execution_count": 280,
   "metadata": {
    "collapsed": false
   },
   "outputs": [],
   "source": [
    "#impute missing values in 'facility_type' with mode value \n",
    "data['facility_type'].value_counts() \n",
    "data['facility_type'].isnull().value_counts() #8570 missing values\n",
    "data.loc[data['facility_type'].isnull(),'facility_type']=data['facility_type'].mode()[0]\n",
    "#data['facility_type'].isnull().value_counts() #cleared"
   ]
  },
  {
   "cell_type": "code",
   "execution_count": 281,
   "metadata": {
    "collapsed": false
   },
   "outputs": [],
   "source": [
    "#impute missing values in 'user_referral_credit_confirmed' with 'f'\n",
    "data['user_referral_credit_confirmed'].value_counts() \n",
    "data['user_referral_credit_confirmed'].isnull().value_counts() #63503 missing values\n",
    "data.loc[data[ 'user_referral_credit_confirmed'].isnull(), 'user_referral_credit_confirmed']='f'\n",
    "#data[ 'user_referral_credit_confirmed'].isnull().value_counts() #cleared"
   ]
  },
  {
   "cell_type": "code",
   "execution_count": 282,
   "metadata": {
    "collapsed": false
   },
   "outputs": [
    {
     "data": {
      "text/plain": [
       "0.0    197206\n",
       "1.0     18029\n",
       "Name: took_survey, dtype: int64"
      ]
     },
     "execution_count": 282,
     "metadata": {},
     "output_type": "execute_result"
    }
   ],
   "source": [
    "#created new binary variable 'took_survey' from 'survey_id' indicating whether the survey attached with reservation is taken\n",
    "data['survey_id'].value_counts() \n",
    "data['survey_id'].isnull().value_counts() #197206 missing values\n",
    "data['took_survey']=np.nan\n",
    "data.loc[data['survey_id'].isnull(),'took_survey']=0\n",
    "data.loc[~data['survey_id'].isnull(),'took_survey']=1\n",
    "data['took_survey'].isnull().value_counts() #cleared\n",
    "data['took_survey'].value_counts()"
   ]
  },
  {
   "cell_type": "code",
   "execution_count": 284,
   "metadata": {
    "collapsed": false
   },
   "outputs": [
    {
     "data": {
      "text/plain": [
       "True     213810\n",
       "False      1425\n",
       "Name: survey_user_text, dtype: int64"
      ]
     },
     "execution_count": 284,
     "metadata": {},
     "output_type": "execute_result"
    }
   ],
   "source": [
    "#'survey_response' has missing values suspectively for users who declined survey. Impute with value 'General'.\n",
    "#also, it seems like the 'survey_user_text' is user's actual typed-in answer to the question \"where do you learn about SpotHero?\", \n",
    "#and 'survey_response' is recoded version of 'survey_user_text' reduced into topics/themes.\n",
    "#we will use 'survey_reponse' over 'survey_user_text' in the model\n",
    "data['survey_response'].value_counts()\n",
    "data['survey_response'].isnull().value_counts() #198543 missing values\n",
    "data.loc[data['survey_response'].isnull(),'survey_response']='General'\n",
    "data['survey_response'].isnull().value_counts() #cleared\n",
    "data['survey_user_text'].isnull().value_counts()"
   ]
  },
  {
   "cell_type": "code",
   "execution_count": 285,
   "metadata": {
    "collapsed": false
   },
   "outputs": [
    {
     "data": {
      "text/plain": [
       "Index(['reservation_id', 'is_first_purchase', 'rental_source',\n",
       "       'rental_source_operating_system', 'reservation_event_id',\n",
       "       'discount_promocode_redemption_id', 'reservation_status',\n",
       "       'cancellation_reason', 'discount_promocode_campaign_channel', 'market',\n",
       "       'facility_id', 'facility_height_restriction', 'facility_type',\n",
       "       'user_id', 'user_email_suffix', 'user_signup_source',\n",
       "       'user_signup_timestamp', 'user_referral_credit_confirmed', 'survey_id',\n",
       "       'survey_response', 'survey_user_text', 'google_analytics_id',\n",
       "       'google_analytics_medium', 'label', 'for_event', 'has_promocode',\n",
       "       'took_survey'],\n",
       "      dtype='object')"
      ]
     },
     "execution_count": 285,
     "metadata": {},
     "output_type": "execute_result"
    }
   ],
   "source": [
    "#write 1st version semi-processed dataset to local csv file:\n",
    "data.to_csv(\"data1.csv\", sep=',', header=True, index = False)\n",
    "data.columns"
   ]
  },
  {
   "cell_type": "markdown",
   "metadata": {},
   "source": [
    "## Feature Recode & Reduction"
   ]
  },
  {
   "cell_type": "markdown",
   "metadata": {},
   "source": [
    "1.  recode cancellation_reason into reduced number of levels:\n",
    "    Change of Plans: match 'change of plans', 'change', 'Weather', 'Event Cancellation' 'Event Cancelled' 'cancelled' 'cancellation'\n",
    "    Book by Mistake: match 'mistake'\n",
    "    Lost: match 'Lost', 'lost','wrong garage', 'wrong', 'Wrong Garage'\n",
    "    Reservation Update: match 'Reservation Update', 'Update', 'update'\n",
    "    Location Closed: match 'Closed' 'Closure' \n",
    "    Supply Request: match 'supply request' 'Supply' 'Supply Request'\n",
    "    Operation Error: 'Lot Full' 'Full' 'lot full' 'full' 'No Attendant Present' 'Vehicle Too Large' 'Attendant' 'Double Charged' 'Scanner' 'Not Accepted','Charged Extra', 'tow', 'towed','Operator'\n",
    "    Test: 'Test' 'test' 'TEST'\n",
    "    Fraud: 'fraud' 'Fraud','Fraudulent','fraudulent'\n",
    "\n",
    "#counts=data['cancellation_reason'].value_counts() #returns a pandas Series\n",
    "#counts=counts.to_frame().head(100)"
   ]
  },
  {
   "cell_type": "code",
   "execution_count": 286,
   "metadata": {
    "collapsed": false,
    "scrolled": true
   },
   "outputs": [],
   "source": [
    "#recode new binary variables from cancellatoin reasons indicating different reasons for cancelling reservation:\n",
    "\n",
    "list_of_cancel_reasons = ['Book_by_Mistake','Lost','Reservation_Update', 'Location_Closed','Supply_Request', 'Operation_Error', \n",
    "                          'Testing', 'Fraud']\n",
    "list_of_list_keywords = [('mistake', 'Mistake'),\n",
    "                         ('Lost','lost', 'wrong','wrong garage', 'Wrong Garage', 'Wrong garage'),\n",
    "                         ('Change', 'change','Weather', 'weather', 'Cancelled', 'cancelled','Cancellation', 'cancellation', \n",
    "                          'Update', 'update'),\n",
    "                         ('Closed','closed','Closure','closure'),\n",
    "                        ('Supply Request','Supply','supply request','supply'),\n",
    "                        ('Full','full','No Attendant','no attendant','No attendant','Too Large','too large','Double Charged',\n",
    "                         'double charged','Scanner','scanner','Not Accepted','not accepted','Not accepted',\n",
    "                         'Charged Extra','charged extra', 'tow', 'Tow','Towed','towed','Operator','operator'),\n",
    "                        ('Test','test','TEST','Testing','testing','TESTING'),\n",
    "                        ('Fraud','fraud','Fraudulent','fraudulent')]\n",
    "#loop to create new variables:\n",
    "i=0\n",
    "for reason in list_of_cancel_reasons:\n",
    "    data[reason]=np.nan\n",
    "    for keyword in list_of_list_keywords[i]:\n",
    "        data.loc[data['cancellation_reason'].str.contains(keyword),reason]=1\n",
    "    i=i+1\n",
    "\n",
    "#fill in all the NaNs in new binary variables created above with 0\n",
    "for reason in list_of_cancel_reasons:\n",
    "    data.loc[data[reason].isnull(),reason]=0"
   ]
  },
  {
   "cell_type": "code",
   "execution_count": 287,
   "metadata": {
    "collapsed": false
   },
   "outputs": [
    {
     "data": {
      "text/html": [
       "<div>\n",
       "<table border=\"1\" class=\"dataframe\">\n",
       "  <thead>\n",
       "    <tr style=\"text-align: right;\">\n",
       "      <th></th>\n",
       "      <th>Book_by_Mistake</th>\n",
       "      <th>Lost</th>\n",
       "      <th>Reservation_Update</th>\n",
       "      <th>Location_Closed</th>\n",
       "      <th>Supply_Request</th>\n",
       "      <th>Operation_Error</th>\n",
       "      <th>Testing</th>\n",
       "      <th>Fraud</th>\n",
       "    </tr>\n",
       "  </thead>\n",
       "  <tbody>\n",
       "  </tbody>\n",
       "</table>\n",
       "</div>"
      ],
      "text/plain": [
       "Empty DataFrame\n",
       "Columns: [Book_by_Mistake, Lost, Reservation_Update, Location_Closed, Supply_Request, Operation_Error, Testing, Fraud]\n",
       "Index: []"
      ]
     },
     "execution_count": 287,
     "metadata": {},
     "output_type": "execute_result"
    }
   ],
   "source": [
    "#['Book_by_Mistake','Lost','Reservation_Update', 'Location_Closed','Supply_Request', 'Operation_Error', 'Testing', 'Fraud']\n",
    "data['Book_by_Mistake'].value_counts()\n",
    "nan_rows(data[list_of_cancel_reasons]) #zero rows return, cleared"
   ]
  },
  {
   "cell_type": "markdown",
   "metadata": {},
   "source": [
    "2. recode new binary variables from 'rental_source_operating_system' indicating operation systems at rental source:\n",
    "Windows, iOS, Mac, Chrome, Linux, Ubuntu, Other\n",
    "#data['rental_source_operating_system'].value_counts()"
   ]
  },
  {
   "cell_type": "code",
   "execution_count": 418,
   "metadata": {
    "collapsed": true
   },
   "outputs": [
    {
     "data": {
      "text/plain": [
       "Windows 7         53646\n",
       "iOS               46744\n",
       "Mac OS X          44562\n",
       "Windows 10        21129\n",
       "Android           19884\n",
       "Windows 8.1       10732\n",
       "Windows           10252\n",
       "Chrome OS          2602\n",
       "Windows Vista      2290\n",
       "Windows XP         1890\n",
       "Windows 8           749\n",
       "Linux               288\n",
       "Ubuntu              128\n",
       "BlackBerry OS       116\n",
       "Windows Phone       109\n",
       "Windows RT 8.1       70\n",
       "Fedora               30\n",
       "Other                 6\n",
       "Windows RT            6\n",
       "FreeBSD               1\n",
       "Solaris               1\n",
       "Name: rental_source_operating_system, dtype: int64"
      ]
     },
     "execution_count": 418,
     "metadata": {},
     "output_type": "execute_result"
    }
   ],
   "source": [
    "data['rental_source_operating_system'].value_counts()"
   ]
  },
  {
   "cell_type": "code",
   "execution_count": 288,
   "metadata": {
    "collapsed": false
   },
   "outputs": [],
   "source": [
    "list_of_operating_systems=['Windows','iOS','Mac','Chrome','Linux','Ubuntu']\n",
    "list_of_keywords=['Windows','iOS','Mac','Chrome','Linux','Ubuntu']\n",
    "\n",
    "#enter loop to create new variables\n",
    "i=0\n",
    "for system in list_of_operating_systems:\n",
    "    data[system]=np.nan\n",
    "    keyword=list_of_keywords[i]\n",
    "    data.loc[data['rental_source_operating_system'].str.contains(keyword),system]=1\n",
    "    i=i+1\n",
    "    \n",
    "#fill in all NaNs in newly created binary variables with 0:\n",
    "for system in list_of_operating_systems:\n",
    "    data.loc[data[system].isnull(),system]=0"
   ]
  },
  {
   "cell_type": "code",
   "execution_count": 289,
   "metadata": {
    "collapsed": false
   },
   "outputs": [],
   "source": [
    "#create variable 'Other_system' for rows where rental source system is not any in the list_of_operating_systems:\n",
    "data['Other_system']=np.nan\n",
    "sum_systems=data[list_of_operating_systems].sum(axis=1).to_frame()  #pd.sum() here returns a pandas Series\n",
    "data.loc[sum_systems[0]==0, 'Other_system']=1\n",
    "data.loc[data['Other_system'].isnull(), 'Other_system']=0"
   ]
  },
  {
   "cell_type": "markdown",
   "metadata": {},
   "source": [
    "3. for 'discount_promocode_campaign_channel', recode to group all the levels with frequency count <100 into one level together with 'Other'\n",
    "#data['discount_promocode_campaign_channel'].value_counts()"
   ]
  },
  {
   "cell_type": "code",
   "execution_count": 290,
   "metadata": {
    "collapsed": false
   },
   "outputs": [
    {
     "data": {
      "text/plain": [
       "off campaign                   201560\n",
       "Email                            3653\n",
       "Site                             3052\n",
       "Radio                            2143\n",
       "Partnerships                     2106\n",
       "Paid Search                       861\n",
       "Other                             833\n",
       "Social Media                      310\n",
       "Business Partnerships             239\n",
       "Deal Sites                        185\n",
       "Employee Promo Codes              154\n",
       "Hero Customer Service Codes       139\n",
       "Name: discount_promocode_campaign_channel, dtype: int64"
      ]
     },
     "execution_count": 290,
     "metadata": {},
     "output_type": "execute_result"
    }
   ],
   "source": [
    "channel_to_group=['OOH - Billboards','Direct Mail','City Launch','Market Research','ApplePay']\n",
    "for channel in channel_to_group:\n",
    "    data.loc[data['discount_promocode_campaign_channel']==channel, 'discount_promocode_campaign_channel']='Other'\n",
    "\n",
    "data['discount_promocode_campaign_channel'].value_counts()    "
   ]
  },
  {
   "cell_type": "code",
   "execution_count": 291,
   "metadata": {
    "collapsed": false
   },
   "outputs": [
    {
     "data": {
      "text/plain": [
       "['New Orleans',\n",
       " 'Oakland',\n",
       " 'Minneapolis',\n",
       " 'Seattle',\n",
       " 'Miami',\n",
       " 'San Diego',\n",
       " 'Austin',\n",
       " 'Houston',\n",
       " 'San Jose',\n",
       " 'Indianapolis',\n",
       " 'St. Louis',\n",
       " 'Dallas',\n",
       " 'Atlanta',\n",
       " 'Orlando',\n",
       " 'Sacramento',\n",
       " 'Nashville',\n",
       " 'Fort Lauderdale',\n",
       " 'Detroit',\n",
       " 'Jacksonville',\n",
       " 'Tampa',\n",
       " 'Monterey']"
      ]
     },
     "execution_count": 291,
     "metadata": {},
     "output_type": "execute_result"
    }
   ],
   "source": [
    "#4. recode 'market' to group all locations with frequency count <1000 into one level 'Other'\n",
    "#could also consider recode into regions\n",
    "freq=data['market'].value_counts().to_frame()\n",
    "freq.reset_index(level=0, inplace=True)\n",
    "list_of_markets=freq.loc[freq['market']<1000,'index'].tolist()\n",
    "list_of_markets"
   ]
  },
  {
   "cell_type": "code",
   "execution_count": 292,
   "metadata": {
    "collapsed": false
   },
   "outputs": [
    {
     "data": {
      "text/plain": [
       "Chicago          112654\n",
       "New York          41632\n",
       "Washington        20686\n",
       "Boston            12635\n",
       "San Francisco     11155\n",
       "Other              4625\n",
       "Los Angeles        2649\n",
       "Philadelphia       2331\n",
       "Denver             2126\n",
       "Newark             1640\n",
       "Baltimore          1561\n",
       "Milwaukee          1541\n",
       "Name: market2, dtype: int64"
      ]
     },
     "execution_count": 292,
     "metadata": {},
     "output_type": "execute_result"
    }
   ],
   "source": [
    "data['market2']=np.nan\n",
    "for market in list_of_markets:\n",
    "    data.loc[data['market'].str.contains(market),'market2']='Other'\n",
    "data.loc[data['market2'].isnull(),'market2']=data['market']\n",
    "data['market2'].value_counts()"
   ]
  },
  {
   "cell_type": "markdown",
   "metadata": {},
   "source": [
    "4. recode 'user_email_suffix' to group all levels other than gmail, yahoo, hotmail, aol, comcast into one level 'Other'\n",
    "#data['user_email_suffix'].value_counts()"
   ]
  },
  {
   "cell_type": "code",
   "execution_count": 293,
   "metadata": {
    "collapsed": false
   },
   "outputs": [
    {
     "data": {
      "text/plain": [
       "gmail.com      91967\n",
       "Other          53358\n",
       "yahoo.com      31886\n",
       "hotmail.com    14283\n",
       "aol.com        13910\n",
       "comcast.net     9831\n",
       "Name: user_email, dtype: int64"
      ]
     },
     "execution_count": 293,
     "metadata": {},
     "output_type": "execute_result"
    }
   ],
   "source": [
    "data['user_email']=np.nan\n",
    "list_of_emails=['gmail.com','yahoo.com','hotmail.com','aol.com','comcast.net']\n",
    "for email in list_of_emails:\n",
    "    data.loc[data['user_email_suffix'].str.contains(email), 'user_email']=email\n",
    "data.loc[data['user_email'].isnull(),'user_email']='Other'\n",
    "data['user_email'].value_counts()"
   ]
  },
  {
   "cell_type": "markdown",
   "metadata": {},
   "source": [
    "5. recode 'survey_response' to group levels with frequency <e 50 into one level 'General'\n",
    "Also correct typo, difference in upper/lower case:\n",
    "    Search engine (e.g. Google, Yahoo, Bing) = Search Engine (e.g. Google, Yahoo, Bing)\n",
    "    Search Engine = Search Engine (e.g. Google, Yahoo, Bing)\n",
    "    Friend or family = Friend or Family\n",
    "    Employer or co-worker = Employer or Co-worker\n",
    "    Blog or website = Blog or Website\n",
    "    Ad on a website or mobile app = Ad on a Website or Mobile App\n",
    "    Website or blog = Blog or Website\n",
    "    Parking facility (e.g. sign, valet) = Parking Facility (e.g. sign, valet)\n",
    "    Social Media = Social Media (e.g. Facebook, Twitter)\n",
    "    Press (newspaper, online, or review site)  = Press (e.g. news story, review site)\n",
    "    Elevator ad = Elevator Ad\n",
    "    Received a promo code = Received a Promo Code \n",
    "Also, since 'survey_response' and 'survey_user_text' are highly correlated/identical, and 'survey_user_text' has too many missing values, we drop 'survey_user-text' in modeling\n",
    "\n",
    "#data['survey_response'].value_counts()"
   ]
  },
  {
   "cell_type": "code",
   "execution_count": 294,
   "metadata": {
    "collapsed": false
   },
   "outputs": [
    {
     "data": {
      "text/plain": [
       "General                                    198543\n",
       "Search Engine                                6537\n",
       "Friend or Family                             4077\n",
       "Blog or Website                              2557\n",
       "Event                                         943\n",
       "Employer or Co-worker                         818\n",
       "Radio Ad                                      363\n",
       "Parking Facility                              328\n",
       "Received a promo code                         292\n",
       "Social Media                                  255\n",
       "Press                                         160\n",
       "App Store (e.g. iTunes or Google Play)        130\n",
       "TV                                             65\n",
       "Outdoor Ad (e.g. billboard, bus, train)        60\n",
       "Direct Mail Coupon/Flyer                       41\n",
       "Elevator Ad                                    33\n",
       "Craigslist                                     22\n",
       "Ad on a Website or Mobile App                  11\n",
       "Name: survey_response, dtype: int64"
      ]
     },
     "execution_count": 294,
     "metadata": {},
     "output_type": "execute_result"
    }
   ],
   "source": [
    "words_to_match=['Search','Friend','Blog','Ad on a Website','Website','Parking','Social','Press','Elevator','Received','Event',\n",
    "               'Ad on a website','Employer']\n",
    "list_of_responses=['Search Engine','Friend or Family','Blog or Website', 'Ad on a Website or Mobile App', 'Blog or Website',\n",
    "                   'Parking Facility','Social Media','Press','Elevator Ad','Received a promo code','Event',\n",
    "                   'Ad on a Website or Mobile App','Employer or Co-worker']\n",
    "i=0\n",
    "for word in words_to_match:\n",
    "    data.loc[data['survey_response'].str.contains(word), 'survey_response']=list_of_responses[i]\n",
    "    i=i+1\n",
    "data['survey_response'].value_counts()"
   ]
  },
  {
   "cell_type": "code",
   "execution_count": 295,
   "metadata": {
    "collapsed": false
   },
   "outputs": [
    {
     "data": {
      "text/plain": [
       "organic                    73461\n",
       "cpc                        62913\n",
       "(none)                     47524\n",
       "referral                   21480\n",
       "email                       3740\n",
       "desktopweb                  1887\n",
       "Website                     1319\n",
       "iosapp                      1137\n",
       "website                      779\n",
       "androidapp                   405\n",
       "partnerships                 274\n",
       "Partnerships                 123\n",
       "partner                       72\n",
       "(not set)                     33\n",
       "desktop                       33\n",
       "display                       14\n",
       "Online                         7\n",
       "mobile                         7\n",
       "operator page                  6\n",
       "social                         5\n",
       "Email                          3\n",
       "tablet                         3\n",
       "Account                        2\n",
       "Chat                           2\n",
       "Facebook                       2\n",
       "soldier-field                  1\n",
       "partners                       1\n",
       "Address: 200 W Adams St        1\n",
       "affiliate                      1\n",
       "Name: google_analytics_medium, dtype: int64"
      ]
     },
     "execution_count": 295,
     "metadata": {},
     "output_type": "execute_result"
    }
   ],
   "source": [
    "#save for now from cleansing, cause not used in model, but consider do visualization\n",
    "data['google_analytics_medium'].value_counts()"
   ]
  },
  {
   "cell_type": "code",
   "execution_count": 358,
   "metadata": {
    "collapsed": false
   },
   "outputs": [
    {
     "data": {
      "text/plain": [
       "Index(['reservation_id', 'is_first_purchase', 'rental_source',\n",
       "       'rental_source_operating_system', 'reservation_event_id',\n",
       "       'discount_promocode_redemption_id', 'reservation_status',\n",
       "       'cancellation_reason', 'discount_promocode_campaign_channel', 'market',\n",
       "       'facility_id', 'facility_height_restriction', 'facility_type',\n",
       "       'user_id', 'user_email_suffix', 'user_signup_source',\n",
       "       'user_signup_timestamp', 'user_referral_credit_confirmed', 'survey_id',\n",
       "       'survey_response', 'survey_user_text', 'google_analytics_id',\n",
       "       'google_analytics_medium', 'label', 'for_event', 'has_promocode',\n",
       "       'took_survey', 'Book_by_Mistake', 'Lost', 'Reservation_Update',\n",
       "       'Location_Closed', 'Supply_Request', 'Operation_Error', 'Testing',\n",
       "       'Fraud', 'Windows', 'iOS', 'Mac', 'Chrome', 'Linux', 'Ubuntu',\n",
       "       'Other_system', 'market2', 'user_email', 'organic_or_cpc', 'year',\n",
       "       'month', 'day', 'quarter'],\n",
       "      dtype='object')"
      ]
     },
     "execution_count": 358,
     "metadata": {},
     "output_type": "execute_result"
    }
   ],
   "source": [
    "#write processed data to local csv file (pre-onehot-encoded)\n",
    "data.to_csv(\"data2.csv\",sep=',',header=True,index=False)\n",
    "data.columns"
   ]
  },
  {
   "cell_type": "markdown",
   "metadata": {},
   "source": [
    "## OneHot Encoding & Feature Selection\n",
    "need to onehot encode all the multi-level categorical variables for models (Logistic Regression, GBM, Decision Tree)\n",
    "also make sure all the binary variables are encoded in 0 and 1"
   ]
  },
  {
   "cell_type": "code",
   "execution_count": 297,
   "metadata": {
    "collapsed": false
   },
   "outputs": [],
   "source": [
    "#drop 'facility_height_restriction' from model:\n",
    "cols_numeric=[]\n",
    "#drop cancellation_reason columns from model: 'Book_by_Mistake', 'Lost', 'Reservation_Update','Locatoin_Closed', 'Supply_Request', \n",
    "#'Operation_Error', 'Testing','Fraud', 'Location_Closed',\n",
    "cols_index_binary=[ 'Windows', 'iOS', 'Mac', 'Chrome', 'Linux',\n",
    "       'Ubuntu', 'Other_system']\n",
    "\n",
    "cols_to_onehot=['is_first_purchase','rental_source','reservation_status','discount_promocode_campaign_channel', \n",
    "                'facility_type','user_signup_source', 'survey_response','market2','user_email']\n",
    "for col in cols_index_binary:\n",
    "    data[col]=data[col].astype('category')\n",
    "for col in cols_to_onehot:\n",
    "    data[col]=data[col].astype('category')"
   ]
  },
  {
   "cell_type": "code",
   "execution_count": 298,
   "metadata": {
    "collapsed": false,
    "scrolled": true
   },
   "outputs": [
    {
     "data": {
      "text/plain": [
       "Index(['is_first_purchase_f', 'is_first_purchase_t',\n",
       "       'rental_source_mobile-web', 'rental_source_web',\n",
       "       'rental_source_widget-js', 'reservation_status_cancelled',\n",
       "       'reservation_status_valid',\n",
       "       'discount_promocode_campaign_channel_Business Partnerships',\n",
       "       'discount_promocode_campaign_channel_Deal Sites',\n",
       "       'discount_promocode_campaign_channel_Email',\n",
       "       'discount_promocode_campaign_channel_Employee Promo Codes',\n",
       "       'discount_promocode_campaign_channel_Hero Customer Service Codes',\n",
       "       'discount_promocode_campaign_channel_Other',\n",
       "       'discount_promocode_campaign_channel_Paid Search',\n",
       "       'discount_promocode_campaign_channel_Partnerships',\n",
       "       'discount_promocode_campaign_channel_Radio ',\n",
       "       'discount_promocode_campaign_channel_Site ',\n",
       "       'discount_promocode_campaign_channel_Social Media',\n",
       "       'discount_promocode_campaign_channel_off campaign',\n",
       "       'facility_type_garage', 'facility_type_lot',\n",
       "       'facility_type_personal_spot', 'user_signup_source_android',\n",
       "       'user_signup_source_ios', 'user_signup_source_manual',\n",
       "       'user_signup_source_web',\n",
       "       'survey_response_Ad on a Website or Mobile App',\n",
       "       'survey_response_App Store (e.g. iTunes or Google Play)',\n",
       "       'survey_response_Blog or Website', 'survey_response_Craigslist',\n",
       "       'survey_response_Direct Mail Coupon/Flyer',\n",
       "       'survey_response_Elevator Ad', 'survey_response_Employer or Co-worker',\n",
       "       'survey_response_Event', 'survey_response_Friend or Family',\n",
       "       'survey_response_General',\n",
       "       'survey_response_Outdoor Ad (e.g. billboard, bus, train)',\n",
       "       'survey_response_Parking Facility', 'survey_response_Press',\n",
       "       'survey_response_Radio Ad', 'survey_response_Received a promo code',\n",
       "       'survey_response_Search Engine', 'survey_response_Social Media',\n",
       "       'survey_response_TV', 'market2_Baltimore', 'market2_Boston',\n",
       "       'market2_Chicago', 'market2_Denver', 'market2_Los Angeles',\n",
       "       'market2_Milwaukee', 'market2_New York', 'market2_Newark',\n",
       "       'market2_Other', 'market2_Philadelphia', 'market2_San Francisco',\n",
       "       'market2_Washington', 'user_email_Other', 'user_email_aol.com',\n",
       "       'user_email_comcast.net', 'user_email_gmail.com',\n",
       "       'user_email_hotmail.com', 'user_email_yahoo.com'],\n",
       "      dtype='object')"
      ]
     },
     "execution_count": 298,
     "metadata": {},
     "output_type": "execute_result"
    }
   ],
   "source": [
    "cols_onehot=pd.get_dummies(data[cols_to_onehot], prefix=cols_to_onehot)\n",
    "cols_onehot.columns"
   ]
  },
  {
   "cell_type": "code",
   "execution_count": 299,
   "metadata": {
    "collapsed": true
   },
   "outputs": [],
   "source": [
    "#3exclude base level column for each categorical variables:\n",
    "#base categorical variables: 'is_first_purchase_f', 'rental_source_widget-js', 'reservation_status_cancelled', \n",
    "#'discount_promocode_campaign_channel_Other','facility_type_personal_spot', 'user_signup_source_manual', 'survey_response_General',\n",
    "#'market2_Other',     'user_email_Other', \n",
    "for col in cols_onehot.columns:\n",
    "    cols_onehot[col]=cols_onehot[col].astype('category')\n",
    "\n",
    "#also drop facility_type - 'facility_type_garage', 'facility_type_lot',  \n",
    "onehot_to_model=['is_first_purchase_t',\n",
    "       'rental_source_mobile-web', 'rental_source_web',\n",
    "       'reservation_status_valid',\n",
    "       'discount_promocode_campaign_channel_Business Partnerships',\n",
    "       'discount_promocode_campaign_channel_Deal Sites',\n",
    "       'discount_promocode_campaign_channel_Email',\n",
    "       'discount_promocode_campaign_channel_Employee Promo Codes',\n",
    "       'discount_promocode_campaign_channel_Hero Customer Service Codes',\n",
    "       'discount_promocode_campaign_channel_Paid Search',\n",
    "       'discount_promocode_campaign_channel_Partnerships',\n",
    "       'discount_promocode_campaign_channel_Radio ',\n",
    "       'discount_promocode_campaign_channel_Site ',\n",
    "       'discount_promocode_campaign_channel_Social Media',\n",
    "       'discount_promocode_campaign_channel_off campaign',\n",
    "       'user_signup_source_android',\n",
    "       'user_signup_source_ios', \n",
    "       'user_signup_source_web',\n",
    "       'survey_response_Ad on a Website or Mobile App',\n",
    "       'survey_response_App Store (e.g. iTunes or Google Play)',\n",
    "       'survey_response_Craigslist',\n",
    "       'survey_response_Direct Mail Coupon/Flyer',\n",
    "       'survey_response_Employer or Co-worker', 'survey_response_Event',\n",
    "       'survey_response_Outdoor Ad (e.g. billboard, bus, train)',\n",
    "       'survey_response_Radio Ad', 'survey_response_Received a promo code',\n",
    "       'survey_response_Search Engine', 'survey_response_TV',\n",
    "       'market2_Baltimore', 'market2_Boston', 'market2_Chicago',\n",
    "       'market2_Denver', 'market2_Los Angeles', 'market2_Milwaukee',\n",
    "       'market2_New York', 'market2_Newark', \n",
    "       'market2_Philadelphia', 'market2_San Francisco', 'market2_Washington',\n",
    "       'user_email_aol.com', 'user_email_comcast.net',\n",
    "       'user_email_gmail.com', 'user_email_hotmail.com',\n",
    "       'user_email_yahoo.com']"
   ]
  },
  {
   "cell_type": "code",
   "execution_count": 300,
   "metadata": {
    "collapsed": false
   },
   "outputs": [
    {
     "data": {
      "text/html": [
       "<div>\n",
       "<table border=\"1\" class=\"dataframe\">\n",
       "  <thead>\n",
       "    <tr style=\"text-align: right;\">\n",
       "      <th></th>\n",
       "      <th>label</th>\n",
       "      <th>Windows</th>\n",
       "      <th>iOS</th>\n",
       "      <th>Mac</th>\n",
       "      <th>Chrome</th>\n",
       "      <th>Linux</th>\n",
       "      <th>Ubuntu</th>\n",
       "      <th>Other_system</th>\n",
       "      <th>is_first_purchase_t</th>\n",
       "      <th>rental_source_mobile-web</th>\n",
       "      <th>...</th>\n",
       "      <th>market2_New York</th>\n",
       "      <th>market2_Newark</th>\n",
       "      <th>market2_Philadelphia</th>\n",
       "      <th>market2_San Francisco</th>\n",
       "      <th>market2_Washington</th>\n",
       "      <th>user_email_aol.com</th>\n",
       "      <th>user_email_comcast.net</th>\n",
       "      <th>user_email_gmail.com</th>\n",
       "      <th>user_email_hotmail.com</th>\n",
       "      <th>user_email_yahoo.com</th>\n",
       "    </tr>\n",
       "  </thead>\n",
       "  <tbody>\n",
       "    <tr>\n",
       "      <th>0</th>\n",
       "      <td>1.0</td>\n",
       "      <td>0.0</td>\n",
       "      <td>0.0</td>\n",
       "      <td>1.0</td>\n",
       "      <td>0.0</td>\n",
       "      <td>0.0</td>\n",
       "      <td>0.0</td>\n",
       "      <td>0.0</td>\n",
       "      <td>1.0</td>\n",
       "      <td>0.0</td>\n",
       "      <td>...</td>\n",
       "      <td>0.0</td>\n",
       "      <td>0.0</td>\n",
       "      <td>0.0</td>\n",
       "      <td>0.0</td>\n",
       "      <td>0.0</td>\n",
       "      <td>0.0</td>\n",
       "      <td>0.0</td>\n",
       "      <td>1.0</td>\n",
       "      <td>0.0</td>\n",
       "      <td>0.0</td>\n",
       "    </tr>\n",
       "    <tr>\n",
       "      <th>1</th>\n",
       "      <td>1.0</td>\n",
       "      <td>1.0</td>\n",
       "      <td>0.0</td>\n",
       "      <td>0.0</td>\n",
       "      <td>0.0</td>\n",
       "      <td>0.0</td>\n",
       "      <td>0.0</td>\n",
       "      <td>0.0</td>\n",
       "      <td>1.0</td>\n",
       "      <td>0.0</td>\n",
       "      <td>...</td>\n",
       "      <td>0.0</td>\n",
       "      <td>0.0</td>\n",
       "      <td>0.0</td>\n",
       "      <td>0.0</td>\n",
       "      <td>0.0</td>\n",
       "      <td>0.0</td>\n",
       "      <td>0.0</td>\n",
       "      <td>0.0</td>\n",
       "      <td>0.0</td>\n",
       "      <td>1.0</td>\n",
       "    </tr>\n",
       "    <tr>\n",
       "      <th>2</th>\n",
       "      <td>0.0</td>\n",
       "      <td>1.0</td>\n",
       "      <td>0.0</td>\n",
       "      <td>0.0</td>\n",
       "      <td>0.0</td>\n",
       "      <td>0.0</td>\n",
       "      <td>0.0</td>\n",
       "      <td>0.0</td>\n",
       "      <td>0.0</td>\n",
       "      <td>0.0</td>\n",
       "      <td>...</td>\n",
       "      <td>0.0</td>\n",
       "      <td>0.0</td>\n",
       "      <td>0.0</td>\n",
       "      <td>0.0</td>\n",
       "      <td>0.0</td>\n",
       "      <td>0.0</td>\n",
       "      <td>0.0</td>\n",
       "      <td>0.0</td>\n",
       "      <td>0.0</td>\n",
       "      <td>0.0</td>\n",
       "    </tr>\n",
       "    <tr>\n",
       "      <th>3</th>\n",
       "      <td>0.0</td>\n",
       "      <td>1.0</td>\n",
       "      <td>0.0</td>\n",
       "      <td>0.0</td>\n",
       "      <td>0.0</td>\n",
       "      <td>0.0</td>\n",
       "      <td>0.0</td>\n",
       "      <td>0.0</td>\n",
       "      <td>1.0</td>\n",
       "      <td>0.0</td>\n",
       "      <td>...</td>\n",
       "      <td>0.0</td>\n",
       "      <td>0.0</td>\n",
       "      <td>0.0</td>\n",
       "      <td>0.0</td>\n",
       "      <td>0.0</td>\n",
       "      <td>0.0</td>\n",
       "      <td>1.0</td>\n",
       "      <td>0.0</td>\n",
       "      <td>0.0</td>\n",
       "      <td>0.0</td>\n",
       "    </tr>\n",
       "    <tr>\n",
       "      <th>4</th>\n",
       "      <td>0.0</td>\n",
       "      <td>1.0</td>\n",
       "      <td>0.0</td>\n",
       "      <td>0.0</td>\n",
       "      <td>0.0</td>\n",
       "      <td>0.0</td>\n",
       "      <td>0.0</td>\n",
       "      <td>0.0</td>\n",
       "      <td>0.0</td>\n",
       "      <td>0.0</td>\n",
       "      <td>...</td>\n",
       "      <td>0.0</td>\n",
       "      <td>0.0</td>\n",
       "      <td>0.0</td>\n",
       "      <td>0.0</td>\n",
       "      <td>0.0</td>\n",
       "      <td>0.0</td>\n",
       "      <td>0.0</td>\n",
       "      <td>1.0</td>\n",
       "      <td>0.0</td>\n",
       "      <td>0.0</td>\n",
       "    </tr>\n",
       "    <tr>\n",
       "      <th>5</th>\n",
       "      <td>1.0</td>\n",
       "      <td>1.0</td>\n",
       "      <td>0.0</td>\n",
       "      <td>0.0</td>\n",
       "      <td>0.0</td>\n",
       "      <td>0.0</td>\n",
       "      <td>0.0</td>\n",
       "      <td>0.0</td>\n",
       "      <td>1.0</td>\n",
       "      <td>0.0</td>\n",
       "      <td>...</td>\n",
       "      <td>0.0</td>\n",
       "      <td>0.0</td>\n",
       "      <td>0.0</td>\n",
       "      <td>0.0</td>\n",
       "      <td>0.0</td>\n",
       "      <td>0.0</td>\n",
       "      <td>0.0</td>\n",
       "      <td>0.0</td>\n",
       "      <td>0.0</td>\n",
       "      <td>0.0</td>\n",
       "    </tr>\n",
       "    <tr>\n",
       "      <th>6</th>\n",
       "      <td>1.0</td>\n",
       "      <td>1.0</td>\n",
       "      <td>0.0</td>\n",
       "      <td>0.0</td>\n",
       "      <td>0.0</td>\n",
       "      <td>0.0</td>\n",
       "      <td>0.0</td>\n",
       "      <td>0.0</td>\n",
       "      <td>1.0</td>\n",
       "      <td>0.0</td>\n",
       "      <td>...</td>\n",
       "      <td>1.0</td>\n",
       "      <td>0.0</td>\n",
       "      <td>0.0</td>\n",
       "      <td>0.0</td>\n",
       "      <td>0.0</td>\n",
       "      <td>0.0</td>\n",
       "      <td>0.0</td>\n",
       "      <td>0.0</td>\n",
       "      <td>0.0</td>\n",
       "      <td>1.0</td>\n",
       "    </tr>\n",
       "    <tr>\n",
       "      <th>7</th>\n",
       "      <td>0.0</td>\n",
       "      <td>1.0</td>\n",
       "      <td>0.0</td>\n",
       "      <td>0.0</td>\n",
       "      <td>0.0</td>\n",
       "      <td>0.0</td>\n",
       "      <td>0.0</td>\n",
       "      <td>0.0</td>\n",
       "      <td>0.0</td>\n",
       "      <td>0.0</td>\n",
       "      <td>...</td>\n",
       "      <td>0.0</td>\n",
       "      <td>0.0</td>\n",
       "      <td>0.0</td>\n",
       "      <td>0.0</td>\n",
       "      <td>0.0</td>\n",
       "      <td>0.0</td>\n",
       "      <td>0.0</td>\n",
       "      <td>0.0</td>\n",
       "      <td>0.0</td>\n",
       "      <td>0.0</td>\n",
       "    </tr>\n",
       "    <tr>\n",
       "      <th>8</th>\n",
       "      <td>1.0</td>\n",
       "      <td>1.0</td>\n",
       "      <td>0.0</td>\n",
       "      <td>0.0</td>\n",
       "      <td>0.0</td>\n",
       "      <td>0.0</td>\n",
       "      <td>0.0</td>\n",
       "      <td>0.0</td>\n",
       "      <td>1.0</td>\n",
       "      <td>0.0</td>\n",
       "      <td>...</td>\n",
       "      <td>0.0</td>\n",
       "      <td>0.0</td>\n",
       "      <td>0.0</td>\n",
       "      <td>0.0</td>\n",
       "      <td>0.0</td>\n",
       "      <td>1.0</td>\n",
       "      <td>0.0</td>\n",
       "      <td>0.0</td>\n",
       "      <td>0.0</td>\n",
       "      <td>0.0</td>\n",
       "    </tr>\n",
       "    <tr>\n",
       "      <th>9</th>\n",
       "      <td>0.0</td>\n",
       "      <td>0.0</td>\n",
       "      <td>0.0</td>\n",
       "      <td>1.0</td>\n",
       "      <td>0.0</td>\n",
       "      <td>0.0</td>\n",
       "      <td>0.0</td>\n",
       "      <td>0.0</td>\n",
       "      <td>1.0</td>\n",
       "      <td>0.0</td>\n",
       "      <td>...</td>\n",
       "      <td>0.0</td>\n",
       "      <td>0.0</td>\n",
       "      <td>0.0</td>\n",
       "      <td>0.0</td>\n",
       "      <td>1.0</td>\n",
       "      <td>0.0</td>\n",
       "      <td>0.0</td>\n",
       "      <td>1.0</td>\n",
       "      <td>0.0</td>\n",
       "      <td>0.0</td>\n",
       "    </tr>\n",
       "  </tbody>\n",
       "</table>\n",
       "<p>10 rows × 53 columns</p>\n",
       "</div>"
      ],
      "text/plain": [
       "   label Windows  iOS  Mac Chrome Linux Ubuntu Other_system  \\\n",
       "0    1.0     0.0  0.0  1.0    0.0   0.0    0.0          0.0   \n",
       "1    1.0     1.0  0.0  0.0    0.0   0.0    0.0          0.0   \n",
       "2    0.0     1.0  0.0  0.0    0.0   0.0    0.0          0.0   \n",
       "3    0.0     1.0  0.0  0.0    0.0   0.0    0.0          0.0   \n",
       "4    0.0     1.0  0.0  0.0    0.0   0.0    0.0          0.0   \n",
       "5    1.0     1.0  0.0  0.0    0.0   0.0    0.0          0.0   \n",
       "6    1.0     1.0  0.0  0.0    0.0   0.0    0.0          0.0   \n",
       "7    0.0     1.0  0.0  0.0    0.0   0.0    0.0          0.0   \n",
       "8    1.0     1.0  0.0  0.0    0.0   0.0    0.0          0.0   \n",
       "9    0.0     0.0  0.0  1.0    0.0   0.0    0.0          0.0   \n",
       "\n",
       "  is_first_purchase_t rental_source_mobile-web         ...           \\\n",
       "0                 1.0                      0.0         ...            \n",
       "1                 1.0                      0.0         ...            \n",
       "2                 0.0                      0.0         ...            \n",
       "3                 1.0                      0.0         ...            \n",
       "4                 0.0                      0.0         ...            \n",
       "5                 1.0                      0.0         ...            \n",
       "6                 1.0                      0.0         ...            \n",
       "7                 0.0                      0.0         ...            \n",
       "8                 1.0                      0.0         ...            \n",
       "9                 1.0                      0.0         ...            \n",
       "\n",
       "  market2_New York market2_Newark market2_Philadelphia market2_San Francisco  \\\n",
       "0              0.0            0.0                  0.0                   0.0   \n",
       "1              0.0            0.0                  0.0                   0.0   \n",
       "2              0.0            0.0                  0.0                   0.0   \n",
       "3              0.0            0.0                  0.0                   0.0   \n",
       "4              0.0            0.0                  0.0                   0.0   \n",
       "5              0.0            0.0                  0.0                   0.0   \n",
       "6              1.0            0.0                  0.0                   0.0   \n",
       "7              0.0            0.0                  0.0                   0.0   \n",
       "8              0.0            0.0                  0.0                   0.0   \n",
       "9              0.0            0.0                  0.0                   0.0   \n",
       "\n",
       "  market2_Washington user_email_aol.com user_email_comcast.net  \\\n",
       "0                0.0                0.0                    0.0   \n",
       "1                0.0                0.0                    0.0   \n",
       "2                0.0                0.0                    0.0   \n",
       "3                0.0                0.0                    1.0   \n",
       "4                0.0                0.0                    0.0   \n",
       "5                0.0                0.0                    0.0   \n",
       "6                0.0                0.0                    0.0   \n",
       "7                0.0                0.0                    0.0   \n",
       "8                0.0                1.0                    0.0   \n",
       "9                1.0                0.0                    0.0   \n",
       "\n",
       "  user_email_gmail.com user_email_hotmail.com user_email_yahoo.com  \n",
       "0                  1.0                    0.0                  0.0  \n",
       "1                  0.0                    0.0                  1.0  \n",
       "2                  0.0                    0.0                  0.0  \n",
       "3                  0.0                    0.0                  0.0  \n",
       "4                  1.0                    0.0                  0.0  \n",
       "5                  0.0                    0.0                  0.0  \n",
       "6                  0.0                    0.0                  1.0  \n",
       "7                  0.0                    0.0                  0.0  \n",
       "8                  0.0                    0.0                  0.0  \n",
       "9                  1.0                    0.0                  0.0  \n",
       "\n",
       "[10 rows x 53 columns]"
      ]
     },
     "execution_count": 300,
     "metadata": {},
     "output_type": "execute_result"
    }
   ],
   "source": [
    "cols_to_model=pd.concat([data['label'],data[cols_numeric],data[cols_index_binary], cols_onehot[onehot_to_model]],axis=1)\n",
    "cols_to_model.head(10)"
   ]
  },
  {
   "cell_type": "code",
   "execution_count": 301,
   "metadata": {
    "collapsed": true
   },
   "outputs": [],
   "source": [
    "#train test split:\n",
    "selected = np.random.rand(len(cols_to_model)) < 0.65\n",
    "\n",
    "cols_to_model_train = cols_to_model[selected] #training set\n",
    "label_train=cols_to_model_train['label']\n",
    "del cols_to_model_train['label']\n",
    "\n",
    "cols_to_model_test = cols_to_model[~selected] #testing set\n",
    "label_test=cols_to_model_test['label']\n",
    "del cols_to_model_test['label']"
   ]
  },
  {
   "cell_type": "code",
   "execution_count": 395,
   "metadata": {
    "collapsed": true
   },
   "outputs": [],
   "source": [
    "cols_to_model_train.to_csv(\"spothero_cols_to_model_train.csv\", sep=',',header=True, index=False)\n",
    "label_train.to_csv(\"spothero_label_train.csv\", sep=',',header=True, index=False)\n",
    "cols_to_model_test.to_csv(\"spothero_cols_to_model_test.csv\", sep=',',header=True, index=False)\n",
    "label_test.to_csv(\"spothero_label_test.csv\", sep=',',header=True, index=False)"
   ]
  },
  {
   "cell_type": "markdown",
   "metadata": {},
   "source": [
    "## Logistic Regression"
   ]
  },
  {
   "cell_type": "code",
   "execution_count": 302,
   "metadata": {
    "collapsed": true
   },
   "outputs": [],
   "source": [
    "from sklearn.linear_model import LogisticRegression\n",
    "from sklearn.metrics import accuracy_score\n",
    "#from sklearn.cross_validation import train_test_split\n",
    "from sklearn import metrics\n",
    "from sklearn.cross_validation import cross_val_score"
   ]
  },
  {
   "cell_type": "code",
   "execution_count": 303,
   "metadata": {
    "collapsed": true
   },
   "outputs": [],
   "source": [
    "lr=LogisticRegression()\n",
    "logfit=lr.fit(cols_to_model_train,label_train)"
   ]
  },
  {
   "cell_type": "code",
   "execution_count": 305,
   "metadata": {
    "collapsed": false
   },
   "outputs": [
    {
     "data": {
      "text/plain": [
       "0.71939616222824643"
      ]
     },
     "execution_count": 305,
     "metadata": {},
     "output_type": "execute_result"
    }
   ],
   "source": [
    "accuracy_score(label_test, logfit.predict(cols_to_model_test)) #0.72"
   ]
  },
  {
   "cell_type": "code",
   "execution_count": 425,
   "metadata": {
    "collapsed": false
   },
   "outputs": [
    {
     "name": "stderr",
     "output_type": "stream",
     "text": [
      "C:\\Users\\Dingding\\Anaconda3\\lib\\site-packages\\ipykernel\\__main__.py:4: FutureWarning: sort(columns=....) is deprecated, use sort_values(by=.....)\n"
     ]
    },
    {
     "data": {
      "text/html": [
       "<div>\n",
       "<table border=\"1\" class=\"dataframe\">\n",
       "  <thead>\n",
       "    <tr style=\"text-align: right;\">\n",
       "      <th></th>\n",
       "      <th>feature</th>\n",
       "      <th>coefficient</th>\n",
       "      <th>abs_coefficient</th>\n",
       "    </tr>\n",
       "  </thead>\n",
       "  <tbody>\n",
       "    <tr>\n",
       "      <th>16</th>\n",
       "      <td>discount_promocode_campaign_channel_Paid Search</td>\n",
       "      <td>2.979862</td>\n",
       "      <td>2.979862</td>\n",
       "    </tr>\n",
       "    <tr>\n",
       "      <th>21</th>\n",
       "      <td>discount_promocode_campaign_channel_off campaign</td>\n",
       "      <td>1.751392</td>\n",
       "      <td>1.751392</td>\n",
       "    </tr>\n",
       "    <tr>\n",
       "      <th>3</th>\n",
       "      <td>Chrome</td>\n",
       "      <td>-1.516433</td>\n",
       "      <td>1.516433</td>\n",
       "    </tr>\n",
       "    <tr>\n",
       "      <th>24</th>\n",
       "      <td>user_signup_source_web</td>\n",
       "      <td>1.460891</td>\n",
       "      <td>1.460891</td>\n",
       "    </tr>\n",
       "    <tr>\n",
       "      <th>23</th>\n",
       "      <td>user_signup_source_ios</td>\n",
       "      <td>1.268202</td>\n",
       "      <td>1.268202</td>\n",
       "    </tr>\n",
       "    <tr>\n",
       "      <th>12</th>\n",
       "      <td>discount_promocode_campaign_channel_Deal Sites</td>\n",
       "      <td>1.161505</td>\n",
       "      <td>1.161505</td>\n",
       "    </tr>\n",
       "    <tr>\n",
       "      <th>40</th>\n",
       "      <td>market2_Los Angeles</td>\n",
       "      <td>1.120014</td>\n",
       "      <td>1.120014</td>\n",
       "    </tr>\n",
       "    <tr>\n",
       "      <th>22</th>\n",
       "      <td>user_signup_source_android</td>\n",
       "      <td>1.084864</td>\n",
       "      <td>1.084864</td>\n",
       "    </tr>\n",
       "    <tr>\n",
       "      <th>5</th>\n",
       "      <td>Ubuntu</td>\n",
       "      <td>-0.867585</td>\n",
       "      <td>0.867585</td>\n",
       "    </tr>\n",
       "    <tr>\n",
       "      <th>4</th>\n",
       "      <td>Linux</td>\n",
       "      <td>-0.831286</td>\n",
       "      <td>0.831286</td>\n",
       "    </tr>\n",
       "    <tr>\n",
       "      <th>33</th>\n",
       "      <td>survey_response_Received a promo code</td>\n",
       "      <td>-0.760351</td>\n",
       "      <td>0.760351</td>\n",
       "    </tr>\n",
       "    <tr>\n",
       "      <th>13</th>\n",
       "      <td>discount_promocode_campaign_channel_Email</td>\n",
       "      <td>0.689397</td>\n",
       "      <td>0.689397</td>\n",
       "    </tr>\n",
       "    <tr>\n",
       "      <th>41</th>\n",
       "      <td>market2_Milwaukee</td>\n",
       "      <td>-0.685322</td>\n",
       "      <td>0.685322</td>\n",
       "    </tr>\n",
       "    <tr>\n",
       "      <th>2</th>\n",
       "      <td>Mac</td>\n",
       "      <td>-0.671436</td>\n",
       "      <td>0.671436</td>\n",
       "    </tr>\n",
       "    <tr>\n",
       "      <th>45</th>\n",
       "      <td>market2_San Francisco</td>\n",
       "      <td>0.657689</td>\n",
       "      <td>0.657689</td>\n",
       "    </tr>\n",
       "    <tr>\n",
       "      <th>25</th>\n",
       "      <td>survey_response_Ad on a Website or Mobile App</td>\n",
       "      <td>0.654898</td>\n",
       "      <td>0.654898</td>\n",
       "    </tr>\n",
       "    <tr>\n",
       "      <th>30</th>\n",
       "      <td>survey_response_Event</td>\n",
       "      <td>-0.611765</td>\n",
       "      <td>0.611765</td>\n",
       "    </tr>\n",
       "    <tr>\n",
       "      <th>27</th>\n",
       "      <td>survey_response_Craigslist</td>\n",
       "      <td>0.595488</td>\n",
       "      <td>0.595488</td>\n",
       "    </tr>\n",
       "    <tr>\n",
       "      <th>14</th>\n",
       "      <td>discount_promocode_campaign_channel_Employee P...</td>\n",
       "      <td>0.544419</td>\n",
       "      <td>0.544419</td>\n",
       "    </tr>\n",
       "    <tr>\n",
       "      <th>42</th>\n",
       "      <td>market2_New York</td>\n",
       "      <td>0.542110</td>\n",
       "      <td>0.542110</td>\n",
       "    </tr>\n",
       "  </tbody>\n",
       "</table>\n",
       "</div>"
      ],
      "text/plain": [
       "                                              feature  coefficient  \\\n",
       "16    discount_promocode_campaign_channel_Paid Search     2.979862   \n",
       "21   discount_promocode_campaign_channel_off campaign     1.751392   \n",
       "3                                              Chrome    -1.516433   \n",
       "24                             user_signup_source_web     1.460891   \n",
       "23                             user_signup_source_ios     1.268202   \n",
       "12     discount_promocode_campaign_channel_Deal Sites     1.161505   \n",
       "40                                market2_Los Angeles     1.120014   \n",
       "22                         user_signup_source_android     1.084864   \n",
       "5                                              Ubuntu    -0.867585   \n",
       "4                                               Linux    -0.831286   \n",
       "33              survey_response_Received a promo code    -0.760351   \n",
       "13          discount_promocode_campaign_channel_Email     0.689397   \n",
       "41                                  market2_Milwaukee    -0.685322   \n",
       "2                                                 Mac    -0.671436   \n",
       "45                              market2_San Francisco     0.657689   \n",
       "25      survey_response_Ad on a Website or Mobile App     0.654898   \n",
       "30                              survey_response_Event    -0.611765   \n",
       "27                         survey_response_Craigslist     0.595488   \n",
       "14  discount_promocode_campaign_channel_Employee P...     0.544419   \n",
       "42                                   market2_New York     0.542110   \n",
       "\n",
       "    abs_coefficient  \n",
       "16         2.979862  \n",
       "21         1.751392  \n",
       "3          1.516433  \n",
       "24         1.460891  \n",
       "23         1.268202  \n",
       "12         1.161505  \n",
       "40         1.120014  \n",
       "22         1.084864  \n",
       "5          0.867585  \n",
       "4          0.831286  \n",
       "33         0.760351  \n",
       "13         0.689397  \n",
       "41         0.685322  \n",
       "2          0.671436  \n",
       "45         0.657689  \n",
       "25         0.654898  \n",
       "30         0.611765  \n",
       "27         0.595488  \n",
       "14         0.544419  \n",
       "42         0.542110  "
      ]
     },
     "execution_count": 425,
     "metadata": {},
     "output_type": "execute_result"
    }
   ],
   "source": [
    "coefs=pd.DataFrame(list(zip(cols_to_model_train.columns, np.transpose(logfit.coef_[0]),np.transpose(abs(logfit.coef_[0])))))\n",
    "coefs #treatment has 0 significance with 0 coefficient\n",
    "coefs.columns=['feature','coefficient','abs_coefficient']\n",
    "coefs.sort(columns=['abs_coefficient'], ascending=0).head(20)\n",
    "#coefs[coefs['feature']=='Other_system']"
   ]
  },
  {
   "cell_type": "markdown",
   "metadata": {},
   "source": [
    "\n",
    "## Prediction - Logistic Regression\n"
   ]
  },
  {
   "cell_type": "code",
   "execution_count": 411,
   "metadata": {
    "collapsed": false
   },
   "outputs": [],
   "source": [
    "#Read in the prepared hold-out test set \"cols_to_model_holdout.csv\" and enter trained model\n",
    "path_to_test_set = 'cols_to_model_holdout.csv' #replace with path to real hold-out test set \n",
    "holdout_test_set=pd.read_csv(path_to_test_set, sep=',',header='infer')\n",
    "path_to_user_id_holdout = 'user_id_holdout.csv' #replace with path to user_id_holdout.csv\n",
    "user_id_holdout=pd.read_csv(path_to_user_id_holdout, sep=',',header='infer')\n",
    "\n",
    "#concatenate prediction results with user_id and convert to dataframe:\n",
    "holdout_prediction=pd.DataFrame(list(zip(user_id_holdout['user_id'], np.transpose(logfit.predict(holdout_test_set)))))\n",
    "holdout_prediction.columns=['user_id','model prediction']\n",
    "holdout_prediction\n",
    "#write out model prediction for holdout test set \n",
    "holdout_prediction.to_csv(\"spothero_holdout_prediction.csv\", sep=',', header=True, index=False)"
   ]
  },
  {
   "cell_type": "markdown",
   "metadata": {},
   "source": [
    "## Gradient Boosting Machine"
   ]
  },
  {
   "cell_type": "code",
   "execution_count": 308,
   "metadata": {
    "collapsed": true
   },
   "outputs": [],
   "source": [
    "from sklearn.ensemble import GradientBoostingClassifier  #GBM algorithm\n",
    "gbm = GradientBoostingClassifier(n_estimators=100) #100 is the default, larger n_estimator could help ease overfitting issue\n",
    "gbmfit=gbm.fit(cols_to_model_train, label_train)"
   ]
  },
  {
   "cell_type": "code",
   "execution_count": 309,
   "metadata": {
    "collapsed": false
   },
   "outputs": [
    {
     "data": {
      "text/plain": [
       "0.7197283793121777"
      ]
     },
     "execution_count": 309,
     "metadata": {},
     "output_type": "execute_result"
    }
   ],
   "source": [
    "accuracy_score(label_test, gbmfit.predict(cols_to_model_test)) #0.72"
   ]
  },
  {
   "cell_type": "code",
   "execution_count": 417,
   "metadata": {
    "collapsed": false
   },
   "outputs": [
    {
     "name": "stderr",
     "output_type": "stream",
     "text": [
      "C:\\Users\\Dingding\\Anaconda3\\lib\\site-packages\\ipykernel\\__main__.py:4: FutureWarning: sort(columns=....) is deprecated, use sort_values(by=.....)\n"
     ]
    },
    {
     "data": {
      "text/html": [
       "<div>\n",
       "<table border=\"1\" class=\"dataframe\">\n",
       "  <thead>\n",
       "    <tr style=\"text-align: right;\">\n",
       "      <th></th>\n",
       "      <th>feature</th>\n",
       "      <th>feature_importance</th>\n",
       "    </tr>\n",
       "  </thead>\n",
       "  <tbody>\n",
       "    <tr>\n",
       "      <th>7</th>\n",
       "      <td>Other_system</td>\n",
       "      <td>0.077140</td>\n",
       "    </tr>\n",
       "    <tr>\n",
       "      <th>21</th>\n",
       "      <td>discount_promocode_campaign_channel_Social Media</td>\n",
       "      <td>0.060278</td>\n",
       "    </tr>\n",
       "    <tr>\n",
       "      <th>42</th>\n",
       "      <td>market2_Milwaukee</td>\n",
       "      <td>0.057776</td>\n",
       "    </tr>\n",
       "    <tr>\n",
       "      <th>6</th>\n",
       "      <td>Ubuntu</td>\n",
       "      <td>0.056566</td>\n",
       "    </tr>\n",
       "    <tr>\n",
       "      <th>45</th>\n",
       "      <td>market2_Philadelphia</td>\n",
       "      <td>0.053315</td>\n",
       "    </tr>\n",
       "    <tr>\n",
       "      <th>40</th>\n",
       "      <td>market2_Denver</td>\n",
       "      <td>0.051726</td>\n",
       "    </tr>\n",
       "    <tr>\n",
       "      <th>49</th>\n",
       "      <td>user_email_comcast.net</td>\n",
       "      <td>0.045056</td>\n",
       "    </tr>\n",
       "    <tr>\n",
       "      <th>34</th>\n",
       "      <td>survey_response_Received a promo code</td>\n",
       "      <td>0.044551</td>\n",
       "    </tr>\n",
       "    <tr>\n",
       "      <th>16</th>\n",
       "      <td>discount_promocode_campaign_channel_Hero Custo...</td>\n",
       "      <td>0.043672</td>\n",
       "    </tr>\n",
       "    <tr>\n",
       "      <th>3</th>\n",
       "      <td>Mac</td>\n",
       "      <td>0.039382</td>\n",
       "    </tr>\n",
       "    <tr>\n",
       "      <th>2</th>\n",
       "      <td>iOS</td>\n",
       "      <td>0.039135</td>\n",
       "    </tr>\n",
       "    <tr>\n",
       "      <th>47</th>\n",
       "      <td>market2_Washington</td>\n",
       "      <td>0.035238</td>\n",
       "    </tr>\n",
       "    <tr>\n",
       "      <th>38</th>\n",
       "      <td>market2_Boston</td>\n",
       "      <td>0.033302</td>\n",
       "    </tr>\n",
       "    <tr>\n",
       "      <th>46</th>\n",
       "      <td>market2_San Francisco</td>\n",
       "      <td>0.032715</td>\n",
       "    </tr>\n",
       "    <tr>\n",
       "      <th>41</th>\n",
       "      <td>market2_Los Angeles</td>\n",
       "      <td>0.031432</td>\n",
       "    </tr>\n",
       "  </tbody>\n",
       "</table>\n",
       "</div>"
      ],
      "text/plain": [
       "                                              feature  feature_importance\n",
       "7                                        Other_system            0.077140\n",
       "21   discount_promocode_campaign_channel_Social Media            0.060278\n",
       "42                                  market2_Milwaukee            0.057776\n",
       "6                                              Ubuntu            0.056566\n",
       "45                               market2_Philadelphia            0.053315\n",
       "40                                     market2_Denver            0.051726\n",
       "49                             user_email_comcast.net            0.045056\n",
       "34              survey_response_Received a promo code            0.044551\n",
       "16  discount_promocode_campaign_channel_Hero Custo...            0.043672\n",
       "3                                                 Mac            0.039382\n",
       "2                                                 iOS            0.039135\n",
       "47                                 market2_Washington            0.035238\n",
       "38                                     market2_Boston            0.033302\n",
       "46                              market2_San Francisco            0.032715\n",
       "41                                market2_Los Angeles            0.031432"
      ]
     },
     "execution_count": 417,
     "metadata": {},
     "output_type": "execute_result"
    }
   ],
   "source": [
    "varimp=pd.DataFrame(list(zip(cols_to_model.columns, np.transpose(gbmfit.feature_importances_))))\n",
    "varimp #treatment has 0 significance with 0 coefficient\n",
    "varimp.columns=['feature','feature_importance']\n",
    "varimp.sort(columns=['feature_importance'], ascending=0).head(15)"
   ]
  },
  {
   "cell_type": "markdown",
   "metadata": {},
   "source": [
    "\n",
    "## Prediction - Logistic Regression\n"
   ]
  },
  {
   "cell_type": "code",
   "execution_count": 414,
   "metadata": {
    "collapsed": false
   },
   "outputs": [],
   "source": [
    "#Read in the prepared hold-out test set \"cols_to_model_holdout.csv\" and enter trained model\n",
    "path_to_test_set = 'cols_to_model_holdout.csv' #replace with path to real hold-out test set \n",
    "holdout_test_set=pd.read_csv(path_to_test_set, sep=',',header='infer')\n",
    "path_to_user_id_holdout = 'user_id_holdout.csv' #replace with path to user_id_holdout.csv\n",
    "user_id_holdout=pd.read_csv(path_to_user_id_holdout, sep=',',header='infer')\n",
    "\n",
    "#concatenate prediction results with user_id and convert to dataframe:\n",
    "holdout_prediction=pd.DataFrame(list(zip(user_id_holdout['user_id'], np.transpose(gbmfit.predict(holdout_test_set)))))\n",
    "holdout_prediction.columns=['user_id','model prediction']\n",
    "holdout_prediction\n",
    "#write out model prediction for holdout test set \n",
    "holdout_prediction.to_csv(\"spothero_holdout_prediction2.csv\", sep=',', header=True, index=False)"
   ]
  }
 ],
 "metadata": {
  "anaconda-cloud": {},
  "kernelspec": {
   "display_name": "Python [conda root]",
   "language": "python",
   "name": "conda-root-py"
  },
  "language_info": {
   "codemirror_mode": {
    "name": "ipython",
    "version": 3
   },
   "file_extension": ".py",
   "mimetype": "text/x-python",
   "name": "python",
   "nbconvert_exporter": "python",
   "pygments_lexer": "ipython3",
   "version": "3.5.2"
  }
 },
 "nbformat": 4,
 "nbformat_minor": 1
}
